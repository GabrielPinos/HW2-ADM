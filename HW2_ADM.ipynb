{
 "cells": [
  {
   "cell_type": "markdown",
   "metadata": {},
   "source": [
    "# **Algorithm of Data Mining - 2024**\n",
    "\n",
    "\n",
    "##### Group D - Gabriel Pinos, Elena di Grigoli, Darkhan Maksutov, Arman Salahshour\n",
    "<arman_salahshour@ieee.org>\n",
    "<maksutov.2113209@studenti.uniroma1.it>\n",
    "<elenadigrigoli@gmail.com>\n",
    "\n",
    "\n",
    "---\n",
    "\n",
    "## **#2 Homework ADM** \n"
   ]
  },
  {
   "cell_type": "code",
   "execution_count": null,
   "metadata": {},
   "outputs": [
    {
     "name": "stdout",
     "output_type": "stream",
     "text": [
      "Requirement already satisfied: pandas in c:\\users\\hp\\anaconda3\\lib\\site-packages (2.2.2)\n",
      "Requirement already satisfied: matplotlib in c:\\users\\hp\\anaconda3\\lib\\site-packages (3.8.4)\n",
      "Requirement already satisfied: seaborn in c:\\users\\hp\\anaconda3\\lib\\site-packages (0.13.2)\n",
      "Requirement already satisfied: numpy>=1.26.0 in c:\\users\\hp\\anaconda3\\lib\\site-packages (from pandas) (1.26.4)\n",
      "Requirement already satisfied: python-dateutil>=2.8.2 in c:\\users\\hp\\anaconda3\\lib\\site-packages (from pandas) (2.9.0.post0)\n",
      "Requirement already satisfied: pytz>=2020.1 in c:\\users\\hp\\anaconda3\\lib\\site-packages (from pandas) (2024.1)\n",
      "Requirement already satisfied: tzdata>=2022.7 in c:\\users\\hp\\anaconda3\\lib\\site-packages (from pandas) (2023.3)\n",
      "Requirement already satisfied: contourpy>=1.0.1 in c:\\users\\hp\\anaconda3\\lib\\site-packages (from matplotlib) (1.2.0)\n",
      "Requirement already satisfied: cycler>=0.10 in c:\\users\\hp\\anaconda3\\lib\\site-packages (from matplotlib) (0.11.0)\n",
      "Requirement already satisfied: fonttools>=4.22.0 in c:\\users\\hp\\anaconda3\\lib\\site-packages (from matplotlib) (4.51.0)\n",
      "Requirement already satisfied: kiwisolver>=1.3.1 in c:\\users\\hp\\anaconda3\\lib\\site-packages (from matplotlib) (1.4.4)\n",
      "Requirement already satisfied: packaging>=20.0 in c:\\users\\hp\\anaconda3\\lib\\site-packages (from matplotlib) (23.2)\n",
      "Requirement already satisfied: pillow>=8 in c:\\users\\hp\\anaconda3\\lib\\site-packages (from matplotlib) (10.3.0)\n",
      "Requirement already satisfied: pyparsing>=2.3.1 in c:\\users\\hp\\anaconda3\\lib\\site-packages (from matplotlib) (3.0.9)\n",
      "Requirement already satisfied: six>=1.5 in c:\\users\\hp\\anaconda3\\lib\\site-packages (from python-dateutil>=2.8.2->pandas) (1.16.0)\n",
      "Note: you may need to restart the kernel to use updated packages.\n"
     ]
    }
   ],
   "source": [
    "pip install pandas matplotlib seaborn numpy scipy pywaffle"
   ]
  },
  {
   "cell_type": "code",
   "execution_count": null,
   "metadata": {},
   "outputs": [],
   "source": [
    "import pandas as pd\n",
    "import matplotlib.pyplot as plt\n",
    "import seaborn as sns\n",
    "import numpy as np\n",
    "from scipy import stats\n",
    "from pywaffle import Waffle"
   ]
  },
  {
   "cell_type": "code",
   "execution_count": 2,
   "metadata": {},
   "outputs": [],
   "source": [
    "# Load the CSV file \n",
    "df = pd.read_csv('steam_reviews.csv').drop('Unnamed: 0', axis=1)\n",
    "\n",
    "# View the first few rows of the dataset\n",
    "df.head()\n"
   ]
  },
  {
   "cell_type": "markdown",
   "metadata": {},
   "source": [
    "# Research questions (RQs)\n",
    "\n",
    "1. [**RQ1**]  Before diving deep into the dataset provided, it's crucial to understand its structure and main features. Data scientists usually take the first step of performing an Exploratory Data Analysis (EDA). What can you say about our dataset? Please perform an EDA and summarize the dataset's key characteristics using visualizations and tabular summaries."
   ]
  },
  {
   "cell_type": "markdown",
   "metadata": {},
   "source": [
    "# **Description of the Dataset**\n",
    "The Steam Reviews 2021 dataset contains users reviews of different games available on the Steam platform. The review includes some details such as the language of the review, timestamps of when the review was created, and also informations about the reviewers playtime and number of games owned.\n",
    "\n",
    "This dataset provides insights about user's behavior and about popularity, and feedback accross a wide range of games."
   ]
  },
  {
   "cell_type": "markdown",
   "metadata": {},
   "source": [
    "### **Dataset Information**\n",
    "\n",
    "---\n",
    "\n",
    "The dataset we are analyzing contains a total of 21,747,371 rows, each representing a review made by a user, and has 23 columns. The first column only holds the row index.\n",
    "\n",
    "```python\n",
    "print(df.shape)\n",
    "(21747371, 23)\n",
    "```\n",
    "\n",
    "Upon analyzing the specific columns, we have the following (excluding the first index column):\n",
    "\n",
    "1. `app_id`: A categorical variable containing the IDs of all reviewed apps, with a total of `315` distinct IDs.\n",
    "```python\n",
    "print(df['app_id'].nunique())\n",
    "```\n",
    "2. `app_name`: A qualitative variable containing the name of each reviewed app, with `315` distinct names (corresponding to **app_id**).\n",
    "3. `review_id`: A categorical variable with the unique ID of each review.\n",
    "4. `language`: A qualitative variable containing the language used in the review, with `28` distinct languages.\n",
    "```python\n",
    "print(df['language'].nunique())\n",
    "```\n",
    "5. `review`: A qualitative variable containing a short review text written by the user.\n",
    "6. `timestamp_created`: A discrete numerical variable showing the timestamp when the review was created and published.\n",
    "7. `timestamp_updated`: A discrete numerical variable (int) showing the timestamp when the review was last updated (if not updated, it is the same as **timestamp_created**).\n",
    "8. `recommended`: A binary variable (**True/False**) indicating whether the user recommends the game.\n",
    "9. `votes_helpful`: A discrete numerical variable (int) indicating the number of users that found the review helpful.\n",
    "10. `votes_funny`:  A discrete numerical variable (int) indicating the number of usersthat found the review funny.\n",
    "11. `weighted_vote_score`: A continue numerical variable (float) based on **votes_helpful**, giving a weighted score to the review; since **votes_helpful** is binary, this variable often holds a value of zero.\n",
    "12. `comment_count`: A discrete numerical variable (int) indicating the number of comments on the review.\n",
    "13. `steam_purchase`: A binary variable (**0/1**) indicating whether the user purchased the game on Steam.\n",
    "14. `received_for_free`: A binary variable (**0/1**) indicating if the user received the game for free.\n",
    "15. `written_during_early_access`: A binary variable (**0/1**) indicating if the review was written during the game’s early access period (before its official release).\n",
    "16. `author.steamid`: A categorical variable with the Steam ID of the review’s author.\n",
    "17. `author.num_games_owned`: A discrete numeric variable representing the number of games owned by the author on Steam (likely includes free games).\n",
    "18. `author.num_reviews`: A numeric discrete variable representing the number of reviews written by the author.\n",
    "19. `author.playtime_forever`: A continue numeric variable (float) representing the total playtime (in minutes) across all games owned by the author.\n",
    "20. `author.playtime_last_two_weeks`: A continue numeric variable (float) representing the author’s playtime in the two weeks before the review was written, in minutes.\n",
    "21. `author.playtime_at_review`: A continue numeric variable (float) representing the author’s total playtime at the time of the review in minutes.\n",
    "22. `author.last_played`: A continue numeric variable (float) representing the time of the author's last played session.\n",
    "\n",
    "In total, we have four boolean variables, five floats, eleven discrete numeric variables, and three qualitative variables.\n",
    "\n",
    "\n",
    "\n"
   ]
  },
  {
   "cell_type": "code",
   "execution_count": null,
   "metadata": {},
   "outputs": [],
   "source": [
    "#Visualize the first rows to understand data structure\n",
    "print(df.head())"
   ]
  },
  {
   "cell_type": "code",
   "execution_count": null,
   "metadata": {},
   "outputs": [],
   "source": [
    "#Dataset characteristic\n",
    "\n",
    "#Shape of the Dataset\n",
    "df.shape\n",
    "#Shows all column names and their data types\n",
    "df.info()\n",
    "#Description of the variables\n",
    "df.describe()\n",
    "#Count the null values\n",
    "df.isnull().sum()"
   ]
  },
  {
   "cell_type": "markdown",
   "metadata": {},
   "source": [
    "### **Pre-Processing**\n",
    "\n",
    "We conduct a set of operations on the data to prepare it for analysis, such as removing outliers, handling null values, scaling, and transformations.\n",
    "\n",
    "We start by transforming time-related variables: `timestamp_created`, `timestamp_updated`, and `author.last_played`. These are currently in Unix timestamp format, representing the number of seconds since January 1, 1970 (UTC). To convert them to a readable date format, we use the `pd.to_datetime` function from the pandas library.\n",
    "\n",
    "```python\n",
    "df['timestamp_created'] = pd.to_datetime(df['timestamp_created'], unit='s')\n",
    "df['timestamp_updated'] = pd.to_datetime(df['timestamp_updated'], unit='s')\n",
    "df['author.last_played'] = pd.to_datetime(df['author.last_played'], unit='s')\n",
    "```\n",
    "\n",
    "This conversion results in a `datetime64[ns]` format, providing a timestamp as `yyyy-mm-dd hh:mm:ss` in UTC.\n",
    "\n",
    "Next, we handle null values. Several columns contain nulls, with the following counts: 33,748 nulls in `review`, 2 nulls each in `author.playtime_forever`, `author.playtime_last_two_weeks`, and `author.last_played`, and 25,682 nulls in `author.playtime_at_review`.\n",
    "\n",
    "```python\n",
    "print(df.isnull().sum())\n",
    "\n",
    "Unnamed: 0                           0\n",
    "app_id                               0\n",
    "app_name                             0\n",
    "review_id                            0\n",
    "language                             0\n",
    "review                           33748\n",
    "timestamp_created                    0\n",
    "timestamp_updated                    0\n",
    "recommended                          0\n",
    "votes_helpful                        0\n",
    "votes_funny                          0\n",
    "weighted_vote_score                  0\n",
    "comment_count                        0\n",
    "steam_purchase                       0\n",
    "received_for_free                    0\n",
    "written_during_early_access          0\n",
    "author.steamid                       0\n",
    "author.num_games_owned               0\n",
    "author.num_reviews                   0\n",
    "author.playtime_forever              2\n",
    "author.playtime_last_two_weeks       2\n",
    "author.playtime_at_review        25682\n",
    "author.last_played                   2\n",
    "```\n",
    "\n",
    "For variables with only 2 nulls, we drop the corresponding rows (as these nulls occur in the same rows).\n",
    "\n",
    "For `review` nulls, we opted to leave the cells empty, excluding them from calculations. For `author.playtime_at_review`, we will replace nulls with the column mean (as this is a float column, this operation helps preserve data quality) or alternatively use values from `author.playtime_forever`.\n",
    "\n",
    "```python\n",
    "df = df.dropna(subset=['author.playtime_forever', 'author.playtime_last_two_weeks', 'author.last_played'])\n",
    "mean_playtime_at_review = df['author.playtime_at_review'].mean()\n",
    "df['author.playtime_at_review'].fillna(mean_playtime_at_review, inplace=True)\n",
    "```\n",
    "\n",
    "Next, we calculate summary statistics for relevant variables (those for which min, max, and mean make sense) to identify any unusual values: `comment_count`, `author.num_games_owned`, `author.num_reviews`, `author.playtime_forever`, `author.playtime_last_two_weeks`, `votes_helpful`, `votes_funny`, and `weighted_vote_score`.\n",
    "\n",
    "```python\n",
    "stats = df[['comment_count', 'author.num_games_owned', 'author.num_reviews',\n",
    "                    'author.playtime_forever', 'author.playtime_last_two_weeks',\n",
    "                    'votes_helpful', 'votes_funny','weighted_vote_score']].agg(['min', 'max', 'mean'])\n",
    "```\n",
    "\n",
    "Upon analyzing the data, we detected outliers (extremely atypical values) in the variables `author.num_games_owned`, `author.num_reviews`, `votes_helpful`, and `votes_funny`. Specifically, there are 2 outliers in both `author.num_reviews` and `votes_helpful`, 5 in `author.num_games_owned`, and 642 in `votes_funny`.\n",
    "\n",
    "For `author.num_games_owned`, we replaced the outlier values with the column mean (excluding these outliers). For the remaining variables with outliers, we removed the corresponding rows.\n",
    "\n",
    "```python\n",
    "df = df[\n",
    "    (df['author.num_games_owned'] <= 50000) &\n",
    "    (df['author.num_reviews'] <= 50000) &\n",
    "    (df['votes_helpful'] <= 50000)\n",
    "]\n",
    "\n",
    "mean_votes_funny = df.loc[df['votes_funny'] <= 50000, 'votes_funny'].mean()\n",
    "df.loc[df['votes_funny'] > 50000, 'votes_funny'] = mean_votes_funny\n",
    "```"
   ]
  },
  {
   "cell_type": "code",
   "execution_count": null,
   "metadata": {},
   "outputs": [],
   "source": [
    "#Converte the timestamp columns from integers to seconds\n",
    "df['timestamp_created'] = pd.to_datetime(df['timestamp_created'], unit='s')\n",
    "df['timestamp_updated'] = pd.to_datetime(df['timestamp_updated'], unit='s')\n",
    "df['author.last_played'] = pd.to_datetime(df['author.last_played'], unit='s')"
   ]
  },
  {
   "cell_type": "code",
   "execution_count": null,
   "metadata": {},
   "outputs": [],
   "source": [
    "#Manage the Nan values\n",
    "df = df.dropna(subset=['author.playtime_forever', 'author.playtime_last_two_weeks', 'author.last_played'])\n",
    "mean_playtime_at_review = df['author.playtime_at_review'].mean()\n",
    "df['author.playtime_at_review'].fillna(mean_playtime_at_review, inplace=True)"
   ]
  },
  {
   "cell_type": "code",
   "execution_count": null,
   "metadata": {},
   "outputs": [],
   "source": [
    "stats = df[['comment_count', 'author.num_games_owned', 'author.num_reviews',\n",
    "                    'author.playtime_forever', 'author.playtime_last_two_weeks',\n",
    "                    'votes_helpful', 'votes_funny','weighted_vote_score']].agg(['min', 'max', 'mean'])"
   ]
  },
  {
   "cell_type": "code",
   "execution_count": null,
   "metadata": {},
   "outputs": [],
   "source": [
    "#Manage the outliers\n",
    "df = df[\n",
    "    (df['author.num_games_owned'] <= 50000) &\n",
    "    (df['author.num_reviews'] <= 50000) &\n",
    "    (df['votes_helpful'] <= 50000)\n",
    "]\n",
    "\n",
    "mean_votes_funny = df.loc[df['votes_funny'] <= 50000, 'votes_funny'].mean()\n",
    "df.loc[df['votes_funny'] > 50000, 'votes_funny'] = mean_votes_funny"
   ]
  },
  {
   "cell_type": "code",
   "execution_count": null,
   "metadata": {},
   "outputs": [],
   "source": [
    "#Visualize now the first rows to understand the new data structure\n",
    "print(df.head())"
   ]
  },
  {
   "cell_type": "markdown",
   "metadata": {},
   "source": [
    "### **Correlation Map**\n",
    "\n",
    "To visualize the correlation between variables, we created the **Heatmap of Correlations Between Numerical Variables**.\n",
    "\n",
    "This table displays the correlation coefficient $ r$, which quantifies the linear relationship between two variables. \\\\\n",
    "Values close to 1 or -1 indicate a strong relationship between the variables."
   ]
  },
  {
   "cell_type": "code",
   "execution_count": null,
   "metadata": {},
   "outputs": [],
   "source": [
    "# Select only numerical columns\n",
    "df_numeric = df.select_dtypes(include=['float64', 'int64'])\n",
    "\n",
    "# Calculate the Spearman correlation matrix\n",
    "correlation_matrix = df_numeric.corr(method='spearman')\n",
    "\n",
    "# Plot the heatmap\n",
    "plt.figure(figsize=(12, 8))\n",
    "sns.heatmap(correlation_matrix, annot=True, cmap='coolwarm', linewidths=0.5)\n",
    "plt.title('Heatmap of Spearman Correlations Between Numerical Variables')\n",
    "plt.show()"
   ]
  },
  {
   "cell_type": "code",
   "execution_count": null,
   "metadata": {},
   "outputs": [],
   "source": [
    "#Find all unique language values from the 'language' column\n",
    "Languages = df['language'].unique()\n",
    "\n",
    "# Print the list of all languages\n",
    "print(f\"List of all Languages: {Languages}\")\n",
    "\n",
    "# Print the number of unique languages\n",
    "print(f\"\\nNumber of languages: {len(Languages)}\")\n",
    "\n",
    "# Get the top 9 most frequent languages\n",
    "top_9_languages = df.language.value_counts().nlargest(9)\n",
    "\n",
    "# Sum all remaining languages and call them as \"Other\"\n",
    "other_languages = df.language.value_counts().iloc[9:].sum()\n",
    "\n",
    "# Combine the top 9 languages and the \"Other\" category into one Series\n",
    "language_counts = pd.concat([top_9_languages, pd.Series({\"Other\": other_languages})])\n",
    "\n",
    "explode = [0.1] + [0] * (len(language_counts) - 1)\n",
    "\n",
    "# Plot the pie chart\n",
    "ax = language_counts.plot.pie(\n",
    "    figsize=(10, 10),\n",
    "    labels=None,\n",
    "    autopct='%1.1f%%',\n",
    "    shadow=True,\n",
    "    explode=explode\n",
    ")\n",
    "\n",
    "ax.set_ylabel('')\n",
    "\n",
    "#Add the legend\n",
    "plt.legend(\n",
    "    labels=language_counts.index,\n",
    "    title=\"Languages\",\n",
    "    bbox_to_anchor=(1.05, 1),\n",
    "    loc='upper left'\n",
    ")\n",
    "\n",
    "plt.show()\n",
    "#The largest portion of the chart (39.2%) is for English, followed by Russian (18.6%) and Schinese (12.6%).\n",
    "#The “Other” category, groups less frequent languages (7.5%).\n",
    "#English is the primary language for reviews."
   ]
  },
  {
   "cell_type": "code",
   "execution_count": null,
   "metadata": {},
   "outputs": [],
   "source": [
    "# Analysis of the relationship betweem number of games owned vs number of reviews written\n",
    "plt.figure(figsize=(12, 6))\n",
    "sns.scatterplot(data=df, x='author.num_games_owned', y='author.num_reviews', alpha=0.5, color= 'green')\n",
    "plt.title('Number of Games Owned vs Number of Reviews Written')\n",
    "plt.xlabel('Number of Games Owned')\n",
    "plt.ylabel('Number of Reviews Written')\n",
    "plt.show()\n",
    "# The plot shows that users with more games tend to write more reviews, although some exceptions.\n",
    "# The heatmap also reflects a moderate positive correlation between these two variables."
   ]
  },
  {
   "cell_type": "code",
   "execution_count": null,
   "metadata": {},
   "outputs": [],
   "source": [
    "# Group by user and game, count duplicate reviews\n",
    "duplicate_reviews = df.groupby(['author.steamid', 'app_id']).size().reset_index(name='count')\n",
    "\n",
    "# Filter only the pairs with more than one review\n",
    "duplicate_reviews = duplicate_reviews[duplicate_reviews['count'] > 1]\n",
    "\n",
    "# Count the number of users who left more than one review\n",
    "num_multiple_reviews = duplicate_reviews['author.steamid'].nunique()\n",
    "print(f\"Number of users who left more than one review: {num_multiple_reviews}\")\n",
    "\n",
    "# Merge to obtain the original duplicate review data\n",
    "duplicate_reviews_data = df.merge(duplicate_reviews[['author.steamid', 'app_id']], on=['author.steamid', 'app_id'])\n",
    "\n",
    "# Check for changes in the 'recommended' column\n",
    "changed_recommendations = duplicate_reviews_data.groupby(['author.steamid', 'app_id'])['recommended'].nunique().reset_index()\n",
    "changed_recommendations = changed_recommendations[changed_recommendations['recommended'] > 1]\n",
    "\n",
    "# Count the number of users who changed their minds\n",
    "num_changed = changed_recommendations.shape[0]\n",
    "print(f\"Number of users who changed their minds: {num_changed}\")\n",
    "\n",
    "# Get the original rows corresponding to those who changed their minds\n",
    "changed_users = duplicate_reviews_data[duplicate_reviews_data.set_index(['author.steamid', 'app_id']).index.isin(changed_recommendations.set_index(['author.steamid', 'app_id']).index)]\n",
    "\n",
    "# Select only the desired columns\n",
    "result = changed_users[['author.steamid', 'app_id', 'recommended']]\n",
    "\n",
    "# Print the corresponding rows\n",
    "print(\"Rows corresponding to users who changed their minds:\")\n",
    "print(result)"
   ]
  },
  {
   "cell_type": "code",
   "execution_count": null,
   "metadata": {},
   "outputs": [],
   "source": [
    "import matplotlib.cm as cm\n",
    "\n",
    "# Group 'author.num_games_owned' into categories\n",
    "bins = [0, 50, 100, 200, 500, df['author.num_games_owned'].max()]\n",
    "labels = ['0-50', '51-100', '101-200', '201-500', '500+']\n",
    "df['games_owned_category'] = pd.cut(df['author.num_games_owned'], bins=bins, labels=labels)\n",
    "\n",
    "# Choose a color palette (viridis with 5 colors)\n",
    "palette = cm.get_cmap('viridis', 5)\n",
    "colors = [palette(i) for i in range(5)]\n",
    "\n",
    "# Plot the bar chart with colors applied\n",
    "plt.figure(figsize=(10, 6))\n",
    "df['games_owned_category'].value_counts().sort_index().plot(kind='bar', color=colors,edgecolor='black')\n",
    "plt.title('Distribution of Number of Games Owned',fontsize=16, fontweight='bold')\n",
    "plt.xlabel('Games Owned Category', fontsize=12)\n",
    "plt.ylabel('Number of Users', fontsize=12)\n",
    "plt.xticks(rotation=0)\n",
    "plt.show()\n",
    "\n",
    "#0-50 Games: This category has the highest number of users, indicating that most Steam users own a relatively small number of games. The bar for this category is significantly taller compared to the others.\n",
    "#51-100 Games: The number of users owning 51-100 games is noticeably lower than the first group but still forms a considerable portion of the user base.\n",
    "#101-200 Games: There is a slight decline in the number of users as we move to this range.\n",
    "#201-500 Games: continues the declining trend.\n",
    "#500+ Games: The number of users owning 500 or more games is the smallest, suggesting that only a minority of users own such an extensive game library."
   ]
  },
  {
   "cell_type": "code",
   "execution_count": null,
   "metadata": {},
   "outputs": [],
   "source": [
    "data = df['steam_purchase'].value_counts()\n",
    "\n",
    "total = data.sum()\n",
    "percent_data = (data / total * 100).round(2)\n",
    "\n",
    "colors = [\"green\", \"red\"]\n",
    "\n",
    "fig = plt.figure(\n",
    "    FigureClass=Waffle,\n",
    "    rows=10,\n",
    "    values=percent_data,\n",
    "    colors=colors,\n",
    "    icons=['dollar-sign' if val else 'gift' for val in percent_data.index],  # dollar-sign\n",
    "    icon_size=30,\n",
    "    icon_legend=True,\n",
    "    labels=[f\"{'Steam Purchase' if val else 'No Purchase'}: {count}%\" for val, count in zip(percent_data.index, percent_data)],\n",
    "    legend={'loc': 'upper left', 'bbox_to_anchor': (1.1, 1), 'prop': {'size': 14}},\n",
    "    title={'label': 'Proportion of Steam Purchases', 'loc': 'center', 'fontsize': 16, 'fontweight': 'bold'},\n",
    "    figsize=(12, 7)\n",
    ")\n",
    "\n",
    "plt.show()\n",
    "\n",
    "\n",
    "#The chart shows that 83.5% of the games reviewed were purchased on Steam. This indicates that the vast majority of players\n",
    "#are buying their games directly through the Steam platform.\n",
    "#The remaining 16.5% of games were not purchased on Steam, which could include games received as gifts, purchased on\n",
    "#other platforms, or obtained through free offers"
   ]
  },
  {
   "cell_type": "markdown",
   "metadata": {},
   "source": [
    "---\n",
    "\n",
    "We conducted this analysis to verify whether there was a spike in the average number of hours played during the COVID period, specifically from the beginning of 2020 to 2021, due to users spending more time at home and possibly playing games. However, the results are the opposite of what we expected, as we observed a nearly drastic decline starting in 2020.\n",
    "\n",
    "The causes of this phenomenon may be varied but it is nevertheless interesting to observe this trend opposite to what we expected."
   ]
  },
  {
   "cell_type": "markdown",
   "metadata": {},
   "source": [
    "2. [**RQ2**] *Let's explore the dataset by analyzing the distribution of reviews across different applications.*\n",
    "   - Identify which applications have the highest and lowest number of reviews.\n",
    "   - Plot the number of reviews for each application in descending order. What insights can you draw from the plot?\n",
    "   - For the top 5 applications by number of reviews, how many reviews came from users who purchased the application versus those who received it for free? Provide a percentage breakdown and highlight any similarities.\n",
    "   - Which applications have the most and the least user recommendations? Summarize your findings.\n",
    "   - Is there a correlation between the number of recommendations and the applications' review scores? Use a statistical test to confirm the significance of the relationship."
   ]
  },
  {
   "cell_type": "markdown",
   "metadata": {},
   "source": [
    "#### Identify which applications have the highest and lowest number of reviews."
   ]
  },
  {
   "cell_type": "code",
   "execution_count": null,
   "metadata": {},
   "outputs": [],
   "source": [
    "app_review_numbers = df['app_name'].value_counts() # count the occurence for all the application\n",
    "\n",
    "most_review_app = app_review_numbers.idxmax()\n",
    "most_review_count = app_review_numbers.max()\n",
    "\n",
    "least_review_app = app_review_numbers.idxmin()\n",
    "least_review_count = app_review_numbers.min()\n",
    "\n",
    "print(f\"Most reviewed game: {most_review_app} ({most_review_count} reviews)\")\n",
    "print(f\"Least reviewed game: {least_review_app} ({least_review_count} reviews)\")"
   ]
  },
  {
   "cell_type": "markdown",
   "metadata": {},
   "source": [
    "#### Plot the number of reviews for each application in descending order. What insights can you draw from the plot?"
   ]
  },
  {
   "cell_type": "code",
   "execution_count": null,
   "metadata": {},
   "outputs": [],
   "source": [
    "import matplotlib.ticker as mtick\n",
    "import textwrap\n",
    "import plotly.express as px\n",
    "\n",
    "# Sort the review counts for all applications\n",
    "app_review_sorted = app_review_numbers.sort_values(ascending=False)\n",
    "\n",
    "# Convert `app_review_sorted` to a DataFrame to make it compatible with Plotly\n",
    "app_review_sorted_df = app_review_sorted.reset_index()\n",
    "app_review_sorted_df.columns = ['Application', 'Number of Reviews']\n",
    "\n",
    "# Create the bar chart with Plotly\n",
    "fig = px.bar(\n",
    "    app_review_sorted_df,\n",
    "    x='Application',\n",
    "    y='Number of Reviews',\n",
    "    title='Number of Reviews per Application (All Data)',\n",
    "    labels={'Application': 'Applications', 'Number of Reviews': 'Number of Reviews'},\n",
    "    color='Number of Reviews',  # Color based on the number of reviews\n",
    "    color_continuous_scale='viridis'  # Use the 'viridis' color palette\n",
    ")\n",
    "\n",
    "# Configure layout for vertical scrolling and formatting\n",
    "fig.update_layout(\n",
    "    height=900,  # Adjust the height of the chart\n",
    "    width=1800,  # Adjust the width of the chart\n",
    "    xaxis={'categoryorder': 'total descending'},  # Sort applications by descending review count\n",
    "    showlegend=False,\n",
    ")\n",
    "\n",
    "# Format the y-axis to show values in millions\n",
    "fig.update_yaxes(tickformat=\".1fM\", title_font=dict(size=16))  # Format to show in millions, e.g., 1.0M\n",
    "\n",
    "# Remove x-axis labels\n",
    "fig.update_xaxes(showticklabels=False)\n",
    "\n",
    "# Show the Plotly chart\n",
    "fig.show()\n",
    "\n",
    "# Create subplots for the top and bottom 10 applications\n",
    "fig, axes = plt.subplots(1, 2, figsize=(18, 8))\n",
    "\n",
    "# Set the color palette for seaborn\n",
    "viridis = sns.color_palette(\"viridis\", 10)\n",
    "\n",
    "# Plot the top 10 applications\n",
    "wrapped_labels_top = [textwrap.fill(label, width=15) for label in app_review_sorted.index[:10]]\n",
    "sns.barplot(ax=axes[0], y=app_review_sorted.values[:10], x=wrapped_labels_top, palette=viridis, edgecolor='black')\n",
    "axes[0].set_title('Top 10 Applications by Number of Reviews', fontsize=20, fontweight='bold')\n",
    "axes[0].set_xlabel('Application Name', fontsize=14)\n",
    "axes[0].set_ylabel('Number of Reviews (in millions)', fontsize=14)\n",
    "axes[0].yaxis.set_major_formatter(mtick.FuncFormatter(lambda x, _: f'{x * 1e-6:.1f}M'))\n",
    "\n",
    "# Plot the bottom 10 applications\n",
    "wrapped_labels_bottom = [textwrap.fill(label, width=15) for label in app_review_sorted.index[-10:]]\n",
    "sns.barplot(ax=axes[1], y=app_review_sorted.values[-10:], x=wrapped_labels_bottom, palette=viridis, edgecolor='black')\n",
    "axes[1].set_title('Bottom 10 Applications by Number of Reviews', fontsize=20, fontweight='bold')\n",
    "axes[1].set_xlabel('Application Name', fontsize=14)\n",
    "axes[1].set_ylabel('Number of Reviews', fontsize=14)\n",
    "\n",
    "# Display the matplotlib plots\n",
    "plt.tight_layout()\n",
    "plt.show()"
   ]
  },
  {
   "cell_type": "markdown",
   "metadata": {},
   "source": [
    "In this graph we can observ a very popular phenomenon which is very common in digital marketplace sush as Steam. This theory is called **\"The Long Tail\"** and it explains that in online markets, the aggregation of numerous niche products, can collectively contribute significantly to the platform's overall activity.\n",
    "This pattern is clearly illustrated in the graph: a small number of games, such as Garry's Mod and The Witcher 3: Wild Hunt, represent the majority of the reviews, representing the \"head\" of the distribution.\n",
    "\n",
    "As we move along the x-axis, we can see the long tail represented by less popular games which receive fewer reviews.\n",
    "However, those games in the long tail, that have a low individual popularity, even if individually might seem insignificant, collectively, they represent a large and valuable portion of the review activity on Steam.\n",
    "\n",
    "The graph reflects that thanks to the long tail effect, digital platforms can capture value not only from the most popular games, but also from the aggregations of niche products, that can be as impactful as those games with a big audience.\n",
    "\n",
    "*Anderson, C. (2006). The Long Tail: Why the Future of Business is Selling Less of More. Hyperion.*"
   ]
  },
  {
   "cell_type": "markdown",
   "metadata": {},
   "source": [
    "#### For the top 5 applications by number of reviews, how many reviews came from users who purchased the application versus those who received it for free? Provide a percentage breakdown and highlight any similarities."
   ]
  },
  {
   "cell_type": "code",
   "execution_count": null,
   "metadata": {},
   "outputs": [],
   "source": [
    "top_5 = app_review_sorted.head(5).index #Variable of the top 5 review\n",
    "top_5 = df[df['app_name'].isin(top_5)]\n",
    "\n",
    "purchase_counts = top_5.groupby(['app_name', 'steam_purchase']).size().unstack(fill_value=0) # Variable for the number pf purchase\n",
    "purchase_percentages = round(purchase_counts.div(purchase_counts.sum(axis=1), axis=0) * 100 , 2)\n",
    "\n",
    "print(purchase_percentages)\n",
    "\n",
    "# Plot the puchasing percentages for the top 5 application\n",
    "fig, axes = plt.subplots(2, 3, figsize=(13, 9))\n",
    "\n",
    "axes = axes.flatten()\n",
    "for i, app in enumerate(purchase_percentages.index):\n",
    "    app_data = purchase_percentages.loc[app]\n",
    "    wedges, texts, autotexts = axes[i].pie(app_data, labels=None, autopct='%1.1f%%',\n",
    "                                           explode=[0.05, 0], colors=['#800080', '#fac205'],\n",
    "                                           shadow=True, startangle=90)\n",
    "    axes[i].set_title(f'{app}',fontweight=\"bold\")\n",
    "axes[5].axis('off')\n",
    "fig.legend(wedges, ['Purchased', 'Received for Free'], loc=7)\n",
    "plt.tight_layout()\n",
    "plt.show()\n",
    "\n",
    "\n",
    "# Obviously the majority of users purchased the game ,around 80%,\n",
    "# only around 20% at most received it as a gift"
   ]
  },
  {
   "cell_type": "markdown",
   "metadata": {},
   "source": [
    "#### Which applications have the most and the least user recommendations? Summarize your findings."
   ]
  },
  {
   "cell_type": "code",
   "execution_count": null,
   "metadata": {},
   "outputs": [],
   "source": [
    "#Print the application with the most and least reccomendation\n",
    "number_recommendation = df.groupby('app_name')['recommended'].sum()\n",
    "\n",
    "most_recommended_app = number_recommendation.idxmax()\n",
    "most_recommended_count = number_recommendation.max()\n",
    "\n",
    "least_recommended_app = number_recommendation.idxmin()\n",
    "least_recommended_count = number_recommendation.min()\n",
    "\n",
    "print(f\"Most recommended app: {most_recommended_app} ({most_recommended_count} recommendations)\")\n",
    "print(f\"Least recommended app: {least_recommended_app} ({least_recommended_count} recommendations)\")\n",
    "\n",
    "#Print the most and least percentage of reccomendation on the total review for application\n",
    "perc_recommendation = (number_recommendation/app_review_numbers)*100\n",
    "\n",
    "most_recommended_app_perc = perc_recommendation.idxmax()\n",
    "most_recommended_perc = round(perc_recommendation.max(),2)\n",
    "\n",
    "least_recommended_app_perc = perc_recommendation.idxmin()\n",
    "least_recommended_perc = round(perc_recommendation.min(),2)\n",
    "\n",
    "print(f\"Most percentuage of recommendation on the total review app: {most_recommended_app_perc} ({most_recommended_perc} %)\")\n",
    "print(f\"Least percentuage of recommendation on the total review app: {least_recommended_app_perc} ({least_recommended_perc} %)\")\n",
    "\n",
    "#  The number of recommendations is strongly linked to the number of reviews,\n",
    "# the most interesting data is the percentage of the number of recommendations, normalized with the number of reviews."
   ]
  },
  {
   "cell_type": "markdown",
   "metadata": {},
   "source": [
    "#### Is there a correlation between the number of recommendations and the applications' review scores? Use a statistical test to confirm the significance of the relationship."
   ]
  },
  {
   "cell_type": "code",
   "execution_count": null,
   "metadata": {},
   "outputs": [],
   "source": [
    "#Create the review Score column using the reccomendation on the total number of review\n",
    "df['review_score'] = df['app_name'].map(lambda x: (number_recommendation.get(x, 0) / app_review_numbers.get(x, 1)) * 100)\n",
    "print(df[['app_name', 'recommended', 'review_score']].head())"
   ]
  },
  {
   "cell_type": "code",
   "execution_count": null,
   "metadata": {},
   "outputs": [],
   "source": [
    "from scipy import stats\n",
    "\n",
    "# Assuming df is already defined\n",
    "# Remove rows with missing values\n",
    "df_cleaned = df[['recommended', 'review_score']].dropna()\n",
    "\n",
    "# Check if we have enough data points\n",
    "if len(df_cleaned) < 2:\n",
    "    print(\"Not enough data points to calculate correlation.\")\n",
    "else:\n",
    "    # Pearson Correlation\n",
    "    correlation, p_value = stats.pearsonr(df_cleaned['recommended'], df_cleaned['review_score'])\n",
    "\n",
    "    print(f\"Pearson Correlation Coefficient: {correlation}\")\n",
    "    print(f\"P-value: {p_value}\")\n",
    "\n",
    "    alpha = 0.05  # More common threshold for significance\n",
    "    if p_value < alpha:\n",
    "        print(\"We refuse the null hypothesis: there is a strong correlation between recommended and review_score.\")\n",
    "    else:\n",
    "        print(\"We can't refuse the null hypothesis: there isn't a strong correlation between recommended and review_score.\")\n",
    "\n",
    "    #############################################################################################################################\n",
    "\n",
    "# Spearman Correlation\n",
    "spearman_corr, spearman_p_value = stats.spearmanr(df_cleaned['recommended'], df_cleaned['review_score'])\n",
    "\n",
    "print(f\"Spearman Correlation Coefficient: {spearman_corr}\")\n",
    "print(f\"Spearman P-value: {spearman_p_value}\")\n",
    "\n",
    "if spearman_p_value < alpha:\n",
    "    print(\"We refuse the null hypothesis: there is a strong correlation between recommended and review_score (Spearman).\")\n",
    "else:\n",
    "    print(\"We can't refuse the null hypothesis: there isn't a strong correlation between recommended and review_score (Spearman).\")\n",
    "\n"
   ]
  },
  {
   "cell_type": "markdown",
   "metadata": {},
   "source": [
    "**What is Pearson Correlation?**\n",
    "\n",
    "The **Pearson correlation** (or Pearson correlation coefficient) is a statistical measure that quantifies the **strength** and **direction** of the linear relationship between two variables and so it is one of the most commonly used tools in statistics to understand if there is a relationship between two variables and, if so, how strong that relationship is. The Pearson Correlation Formula is :\n",
    "$$\n",
    "r = \\frac{\\sum{(x_i - \\bar{x})(y_i - \\bar{y})}}{\\sqrt{\\sum{(x_i - \\bar{x})^2} \\sum{(y_i - \\bar{y})^2}}}\n",
    "$$\n",
    "\n",
    "Where:\n",
    "- $x_i$ and $y_i$ are the values of the two variables,\n",
    "- $ \\bar{x} $ and $ \\bar{y} $ are the means of the values of the two variables,\n",
    "- $ \\sum $ denotes the sum over all data points.\n",
    "\n",
    "The value of $r$ ranges between **-1** and **1**:\n",
    "- **$ r = 1 $**: A perfectly positive linear relationship (when one variable increases, the other increases proportionally).\n",
    "- **$ r = -1 $**: A perfectly negative linear relationship (when one variable increases, the other decreases proportionally).\n",
    "- **$ r = 0 $**: No linear relationship between the two variables.\n",
    "\n",
    "\n",
    "**What is the P-value**\n",
    "\n",
    "\n",
    "The **p-value** associated with Pearson's correlation helps determine whether the correlation coefficient $r$ is **statistically significant** :\n",
    "\n",
    "is the probability of obtaining a result at least as the one observed, assuming the **null hypothesis (H₀)** is true. In the context of Pearson's correlation, the null hypothesis states that **there is no correlation** between the two variables (i.e., $ r = 0 $ ).\n",
    "\n",
    "- If the **p-value is low** (below a significance level $\\alpha = 0.5$), we reject the null hypothesis and conclude that there is a significant correlation between the two variables.\n",
    "- If the **p-value is high** (greater than $\\alpha=0.5$), we cannot reject the null hypothesis, meaning we don't have enough evidence to say there is a significant correlation.\n",
    "\n",
    "\n",
    "\n",
    "####   *Important*\n",
    "To use the Pearson correlation correctly, the following assumptions must be met:\n",
    "1. **Linear relationship**: The two variables must have a linear relationship. If the relationship is not linear, Pearson's correlation may not be appropriate.\n",
    "2. **Normal distribution**: The variables should be approximately normally distributed.\n",
    "3. **Absence of outliers**: Outliers can strongly affect the value of $r$, so it's important to check for extreme values.\n",
    "\n",
    "\n",
    "**Spearman's Rank Correlation**\n",
    "\n",
    "Due to the assumptions involved, Pearson’s correlation may not be the best choice here. Instead, we’ve chosen to use Spearman's Rank Correlation because it has the following advantages:\n",
    "\n",
    "   - **No Assumption of Normality**: Spearman's is ideal for data that does not follow a normal distribution, which is common in real-world datasets.\n",
    "   - **Detects Monotonic Relationships**: Unlike Pearson’s correlation, which only detects linear relationships, Spearman’s can capture monotonic trends even if they’re non-linear.\n",
    "   - **Robust to Outliers**: Because Spearman’s ranks data, extreme values (outliers) don’t have as large an impact as they do in parametric methods.\n",
    "   - **Suitable for Ordinal Data**: Works well with ordinal data, where the values represent rankings rather than exact quantities.\n",
    "\n",
    "The formula for Spearman’s rank correlation is:\n",
    "$$\n",
    "\\rho = 1 - \\frac{6 \\sum d_i^2}{n(n^2 - 1)}\n",
    "$$\n",
    "where ($ d_i $) is the difference between the ranks of each pair and ( $n$ ) is the number of pairs.\n",
    "\n",
    "The result ranges between -1 and +1, similar to Pearson’s coefficient, but with a slightly different interpretation:\n",
    "   - **+1**: A perfect positive monotonic relationship (as one variable increases, the other also increases).\n",
    "   - **0**: No monotonic relationship.\n",
    "   - **-1**: A perfect negative monotonic relationship (as one variable increases, the other decreases).\n",
    "---"
   ]
  },
  {
   "cell_type": "markdown",
   "metadata": {},
   "source": [
    "The **Pearson correlation coefficient** was found to be **0.3975**. This value indicates a moderate positive correlation between the `recommended` status and the `review_score` that suggests that as the review score increases, the likelihood of a recommendation also tends to increase.\n",
    "The  p-value is **0.0**, which is well below significance level (e.g., 0.05), so we reject the null hypothesis, concluding that there is a **statistically significant correlation between the two variables**.\n",
    "\n",
    "The **Spearman correlation coefficient** was calculated as **0.3360**. This also indicates a moderate positive correlation and then confirms the findings of the Pearson correlation.\n",
    "Similar to the Pearson results, the Spearman p-value is also **0.0**, this suggests that the correlation is statistically significant, reinforcing the relationship observed with the Pearson method.\n",
    "\n",
    "The significance of the p-values in both tests strongly suggests that higher review scores are associated with a greater likelihood of a recommendation.\n",
    "\n",
    "**The obtained values align with our expectations. By definition, the review score is calculated as the number of recommendations divided by the total number of reviews for each game. This inherently implies a correlation with the number of recommendations. However, it is important to note that the correlation coefficients are not excessively high, indicating that the relationship is not perfect.**"
   ]
  },
  {
   "cell_type": "markdown",
   "metadata": {},
   "source": [
    "3. [**RQ3**] *Understanding when users are most active in submitting reviews can help identify peak engagement periods.*\n",
    "   - Plot the number of reviews submitted each month and describe any trends.\n",
    "   - Identify any seasonal patterns or trends in review activity. Explain any seasonal impact you notice.\n",
    "   - Determine if certain times of the year have higher engagement rates. Describe noticeable peaks in user activity.\n",
    "   - What is the most common time of day users write reviews? For example, users might typically write reviews at 17:44. Explain how this time distribution could influence your analysis.\n",
    "   - Create a function that accepts a list of time intervals and plots the number of reviews for each interval.\n",
    "   - Use the function to plot the number of reviews for the following time intervals:\n",
    "\n",
    "| Initial Time | Final Time |\n",
    "|--------------|------------|\n",
    "| 00:00:00     | 02:59:59   |\n",
    "| 03:00:00     | 05:59:59   |\n",
    "| 06:00:00     | 10:59:59   |\n",
    "| 11:00:00     | 13:59:59   |\n",
    "| 14:00:00     | 16:59:59   |\n",
    "| 17:00:00     | 19:59:59   |\n",
    "| 20:00:00     | 23:59:59   |\n",
    "\n",
    "   - Summarize your findings from the time interval analysis."
   ]
  },
  {
   "cell_type": "code",
   "execution_count": null,
   "metadata": {},
   "outputs": [],
   "source": [
    "cols = ['review_id', 'timestamp_created']\n",
    "df_temp = df[cols]"
   ]
  },
  {
   "cell_type": "code",
   "execution_count": null,
   "metadata": {},
   "outputs": [],
   "source": [
    "# Plot the number of reviews submitted each month and describe any trends\n",
    "\n",
    "\n",
    "# Select relevant columns for analysis\n",
    "cols = ['review_id', 'timestamp_created']\n",
    "df_temp = df[cols].copy()  # Create a copy of the DataFrame to avoid SettingWithCopyWarning\n",
    "\n",
    "# Extract month names from the timestamp using .loc\n",
    "df_temp.loc[:, 'month'] = df_temp['timestamp_created'].dt.month_name()\n",
    "\n",
    "# Define the order of the months\n",
    "months = ['January', 'February', 'March', 'April', 'May', 'June',\n",
    "          'July', 'August', 'September', 'October', 'November', 'December']\n",
    "\n",
    "# Count reviews per month and ensure the order is correct\n",
    "reviews = df_temp['month'].value_counts().reindex(months)\n",
    "\n",
    "# Create the bar plot\n",
    "plt.figure(figsize=(12, 6))\n",
    "bars = plt.bar(months, reviews, color=sns.color_palette(\"viridis\", len(reviews)), edgecolor='black')  # Use viridis color palette\n",
    "\n",
    "# Set labels and title\n",
    "plt.xlabel('Month')\n",
    "plt.ylabel('Number of Reviews')\n",
    "plt.title('Number of Reviews Submitted Each Month')\n",
    "\n",
    "# Add a line connecting the tops of the bars\n",
    "plt.plot(months, reviews, color='black', marker='o', linestyle='-')\n",
    "\n",
    "# Rotate x-axis labels for better visibility\n",
    "plt.xticks()\n",
    "\n",
    "# Add gridlines for easier reading of values\n",
    "plt.grid(axis='y', linestyle='--', alpha=0.7)\n",
    "\n",
    "# Adjust layout to make it neat\n",
    "plt.tight_layout()\n",
    "\n",
    "# Show the plot\n",
    "plt.show()\n"
   ]
  },
  {
   "cell_type": "markdown",
   "metadata": {},
   "source": [
    "There are noticeable peaks in **January, November and December**, with November having the highest count of reviews by a significant margin. This suggests that specific times of the year experience surges in review activity, possibly linked to seasonal events or promotions. For instance, November and December coincide with major Steam sales, which likely encourage increased gaming activity and, consequently, more reviews. January also sees a relatively high volume of reviews, potentially due to the holiday season, when people have more free time to play and review games."
   ]
  },
  {
   "cell_type": "code",
   "execution_count": null,
   "metadata": {},
   "outputs": [],
   "source": [
    "# Identify any seasonal patterns or trends in review activity. Explain any seasonal impact you notice.\n",
    "\n",
    "from statsmodels.tsa.seasonal import seasonal_decompose\n",
    "\n",
    "df_temp['year'] = df_temp['timestamp_created'].dt.year\n",
    "df_temp['month'] = df_temp['timestamp_created'].dt.month\n",
    "\n",
    "# Group by year and month to get monthly review counts\n",
    "monthly_counts = df_temp.groupby(['year', 'month']).size().reset_index(name='review_count')\n",
    "\n",
    "# Convert to a time series format with a Datetime index\n",
    "monthly_counts['date'] = pd.to_datetime(monthly_counts[['year', 'month']].assign(day=1))\n",
    "monthly_counts.set_index('date', inplace=True)\n",
    "monthly_counts = monthly_counts['review_count']\n",
    "\n",
    "\n",
    "# Using seasonal decomposition to observe trend, seasonality, and residuals\n",
    "decomposition = seasonal_decompose(monthly_counts, model='additive', period=12)\n",
    "decomposition.plot()\n",
    "plt.suptitle(\"Seasonal Decomposition of Monthly Review Counts\")\n",
    "plt.tight_layout()\n",
    "plt.show()"
   ]
  },
  {
   "cell_type": "markdown",
   "metadata": {},
   "source": [
    "An upward trend can be observed in review activity, suggesting that Steam's user engagement has been **growing steadily over time**. Notably, there are recurring seasonal patterns with peaks around June and November. These months likely correspond to Steam's **Summer and Winter sales**, where users are more active in purchasing and reviewing games. Additionally, the sharp increase in the trend around 2019–2020 may be associated with the **COVID-19 pandemic**, as more people turned to gaming. The seasonal component reveals that user engagement is highly influenced by recurring annual events. The residuals indicate occasional outliers, potentially due to significant game releases."
   ]
  },
  {
   "cell_type": "code",
   "execution_count": null,
   "metadata": {},
   "outputs": [],
   "source": [
    "# Determine if certain times of the year have higher engagement rates. Describe noticeable peaks in user activity.\n",
    "\n",
    "average_reviews = monthly_counts.groupby(monthly_counts.index.month).mean()\n",
    "\n",
    "plt.figure(figsize = (12, 6))\n",
    "plt.plot(average_reviews.index, average_reviews.values)\n",
    "plt.xlabel('Month')\n",
    "plt.ylabel('Average Number of Reviews')\n",
    "plt.title('Average Monthly Review Counts Across All Years')\n",
    "plt.xticks(range(1, 13), ['January', 'February', 'March', 'April', 'May', 'June', 'July', 'August', 'September', 'October', 'November', 'December'])\n",
    "plt.grid()\n",
    "plt.show()\n",
    "\n",
    "\n",
    "print(\"Average Reviews by Month:\")\n",
    "print(round(average_reviews, 1))\n",
    "\n",
    "peak_months = average_reviews[average_reviews > average_reviews.mean()]\n",
    "print(\"\\nPeak Months with Higher Engagement Rates:\")\n",
    "print(round(peak_months, 1))\n"
   ]
  },
  {
   "cell_type": "code",
   "execution_count": null,
   "metadata": {},
   "outputs": [],
   "source": [
    "# What is the most common time of day users write reviews? For example, users might typically write reviews at 17:44. Explain how this time distribution could influence your analysis.\n",
    "\n",
    "df_temp['time_of_day'] = df_temp['timestamp_created'].dt.strftime('%H:%M')\n",
    "\n",
    "reviews_by_time = df_temp.groupby('time_of_day').size().reset_index(name = 'count')\n",
    "\n",
    "ind = reviews_by_time['count'].idxmax()\n",
    "most_common = reviews_by_time.loc[ind, 'time_of_day']\n",
    "most_count = reviews_by_time.loc[ind, 'count']\n",
    "\n",
    "print(f'The most common time of day for writing reviews is {most_common} with {most_count} reviews.')"
   ]
  },
  {
   "cell_type": "markdown",
   "metadata": {},
   "source": [
    "This pattern could imply that review activity **is not strictly limited to evenings**, as might be expected. It may also highlight the importance of considering global user bases, as time zone differences could mean that 14:50 corresponds to **late evening or early morning** in other regions."
   ]
  },
  {
   "cell_type": "code",
   "execution_count": null,
   "metadata": {},
   "outputs": [],
   "source": [
    "# Create a function that accepts a list of time intervals and plots the number of reviews for each interval.\n",
    "\n",
    "\n",
    "\n",
    "def plot_by_intervals(df, intervals):\n",
    "    # Convert the 'timestamp_created' column to a time of day format (HH:MM:SS)\n",
    "    df['time_of_day'] = df['timestamp_created'].dt.strftime('%H:%M:%S')\n",
    "    counts = []  # Initialize a list to hold the counts of reviews for each interval\n",
    "\n",
    "    # Iterate through each time interval\n",
    "    for start, end in intervals:\n",
    "        # Count the number of reviews within the current time interval\n",
    "        count = len(df[(df['time_of_day'] >= start) & (df['time_of_day'] <= end)])\n",
    "        counts.append(count)  # Append the count to the counts list\n",
    "\n",
    "    # Create a temporary DataFrame to store the intervals and their corresponding counts\n",
    "    temp_df = pd.DataFrame({\n",
    "        'Interval': [f'{i}-{j}' for i, j in intervals],\n",
    "        'Count': counts\n",
    "    })\n",
    "\n",
    "    # Plotting the results using a bar chart\n",
    "    plt.figure(figsize=(12, 6))\n",
    "    # Use the viridis palette for the bars, with a black edge\n",
    "    bars = plt.bar(temp_df['Interval'], temp_df['Count'], color=sns.color_palette(\"viridis\", len(temp_df)), edgecolor='black')\n",
    "    plt.xlabel('Time Interval')\n",
    "    plt.ylabel('Number of Reviews')\n",
    "    plt.title('Number of Reviews by Time Interval')\n",
    "    plt.xticks(rotation=0)  # Set x-axis labels to be horizontal\n",
    "\n",
    "    # Adjust x-ticks to add line breaks for better visibility\n",
    "    plt.xticks(ticks=range(len(temp_df['Interval'])),\n",
    "               labels=[f'{i}\\n{j}' for i, j in intervals],\n",
    "               rotation=0)\n",
    "\n",
    "    # Add a line connecting the tops of the bars\n",
    "    plt.plot(temp_df['Interval'], temp_df['Count'], color='black', marker='o', linestyle='-')\n",
    "\n",
    "    plt.grid(axis='y', linestyle='--', alpha=0.7)  # Add gridlines for easier reading of values\n",
    "    plt.tight_layout()  # Automatically adjust subplot parameters for a neat fit\n",
    "    plt.show()\n",
    "\n",
    "# Define the time intervals to analyze\n",
    "time_intervals = [\n",
    "    ('00:00:00', '02:59:59'),\n",
    "    ('03:00:00', '05:59:59'),\n",
    "    ('06:00:00', '10:59:59'),\n",
    "    ('11:00:00', '13:59:59'),\n",
    "    ('14:00:00', '16:59:59'),\n",
    "    ('17:00:00', '19:59:59'),\n",
    "    ('20:00:00', '23:59:59')\n",
    "]\n",
    "\n",
    "# Call the function with the DataFrame containing review data\n",
    "plot_by_intervals(df_temp, time_intervals)\n"
   ]
  },
  {
   "cell_type": "markdown",
   "metadata": {},
   "source": [
    "The time interval analysis shows that user review activity peaks between **06:00-10:59** and **20:00-23:59**, suggesting high engagement during early mornings and late evenings. This pattern likely reflects the influence of global time zones, with certain regions accessing the platform during these times when it aligns with their evenings or relaxed hours. The lowest engagement occurs from **03:00-05:59**, a period that may align with late-night hours for most users."
   ]
  },
  {
   "cell_type": "markdown",
   "metadata": {},
   "source": [
    "4. [**RQ4**] *Investigating whether users who spend more time using an application give higher or lower ratings.*\n",
    "   - Analyze the relationship between the amount of time a user has spent on an application and their review score.\n",
    "   - Do more experienced users (who have used the application longer) tend to give higher or lower ratings? Comment on any trends you observe.\n",
    "   - Plot the distribution of review scores based on different user experience levels (e.g., new users vs. veteran users). Is there a statistical difference in the score distributions? Use an appropriate statistical test to validate your hypothesis.\n",
    "   - Ask an LLM tool (ChatGPT, Claude AI, etc.) to interpret the statistical results of the analysis and provide potential explanations for the trends. Does the LLM suggest additional factors that could explain why users who spend more time on the app give higher or lower ratings? How can you validate the interpretations provided by the LLM?"
   ]
  },
  {
   "cell_type": "code",
   "execution_count": null,
   "metadata": {},
   "outputs": [
    {
     "data": {
      "text/plain": [
       "Index(['app_id', 'app_name', 'review_id', 'language', 'review',\n",
       "       'timestamp_created', 'timestamp_updated', 'recommended',\n",
       "       'votes_helpful', 'votes_funny', 'weighted_vote_score', 'comment_count',\n",
       "       'steam_purchase', 'received_for_free', 'written_during_early_access',\n",
       "       'author.steamid', 'author.num_games_owned', 'author.num_reviews',\n",
       "       'author.playtime_forever', 'author.playtime_last_two_weeks',\n",
       "       'author.playtime_at_review', 'author.last_played'],\n",
       "      dtype='object')"
      ]
     },
     "execution_count": 3,
     "metadata": {},
     "output_type": "execute_result"
    }
   ],
   "source": [
    "plt.figure(figsize=(12, 6))\n",
    "plt.hexbin(df['author.playtime_forever'], df['weighted_vote_score'], gridsize=60, cmap='coolwarm')\n",
    "plt.colorbar(label='Density')\n",
    "plt.title('Relationship Between Playtime and Review Score (Density)')\n",
    "plt.xlabel('Total Playtime (minutes)')\n",
    "plt.ylabel('Weighted Vote Score')\n",
    "plt.tight_layout()\n",
    "plt.show()"
   ]
  },
  {
   "cell_type": "code",
   "execution_count": null,
   "metadata": {},
   "outputs": [],
   "source": [
    "sns.set_theme(style=\"whitegrid\")  \n",
    "# Analyze the relationship between the amount of time a user has spent on an application and their review score.\n",
    "\n",
    "import matplotlib.ticker as ticker\n",
    "from scipy.stats import pearsonr\n",
    "\n",
    "plt.figure(figsize=(12, 6))\n",
    "plt.scatter(x= df['author.playtime_forever'], y = df['weighted_vote_score'], alpha = 0.5)\n",
    "plt.title('Relationship Between Playtime and Review Score')\n",
    "plt.xlabel('Total Playtime (minutes)')\n",
    "plt.ylabel('Weighted Vote Score')\n",
    "\n",
    "plt.grid()\n",
    "plt.tight_layout()\n",
    "plt.show()"
   ]
  },
  {
   "cell_type": "code",
   "execution_count": null,
   "metadata": {},
   "outputs": [],
   "source": [
    "# Perform Spearman correlation calculation\n",
    "spearman_corr_matrix = df[['author.playtime_forever', 'weighted_vote_score']].corr(method='spearman')\n",
    "\n",
    "spearman_corr_matrix"
   ]
  },
  {
   "cell_type": "markdown",
   "metadata": {},
   "source": [
    "#### Do more experienced users (who have used the application longer) tend to give higher or lower ratings? Comment on any trends you observe.\n",
    "\n",
    "The analysis between *author.playtime_forever* and *weighted_vote_score* using Spearman correlation revealed a coefficient of approximately 0.043, indicating a very weak or negligible monotonic relationship. The scatter plot visually supports this, showing a dispersed set of points without a clear pattern between the two variables. Spearman correlation was chosen due to its robustness against outliers and suitability for non-linear and non-normally distributed data, which fits the context of user playtime that can have extreme values. **This implies that regardless of how long users have engaged with the application, their ratings remain relatively consistent.**"
   ]
  },
  {
   "cell_type": "code",
   "execution_count": null,
   "metadata": {},
   "outputs": [],
   "source": [
    "import seaborn as sns\n",
    "import matplotlib.pyplot as plt\n",
    "\n",
    "\n",
    "df['weighted_vote_score'] = df['weighted_vote_score'] * 100\n",
    "df['author.playtime_at_review'] = df['author.playtime_at_review'] / 3600\n",
    "# Define thresholds\n",
    "low_threshold = 10\n",
    "high_threshold = 200\n",
    "\n",
    "# Get the categorical variable 'user_experience' basing on the user's playtime\n",
    "df['user_experience'] = df['author.playtime_forever'].apply(\n",
    "    lambda x: 'New player' if 0 < x < low_threshold\n",
    "    else 'Casual player' if low_threshold <= x < high_threshold\n",
    "    else 'Veteran'\n",
    ")\n",
    "# Check the user_experience distribution\n",
    "df['user_experience'].value_counts()\n",
    "\n",
    "\n",
    "# Imposta il tema desiderato\n",
    "sns.set_theme(style=\"whitegrid\")  # Cambia 'whitegrid' con il tema che preferisci\n",
    "\n",
    "# Esempio di grafico\n",
    "plt.figure(figsize=(12, 6))\n",
    "sns.violinplot(x='user_experience_level', y='weighted_vote_score', data=df, inner='quartile', palette='pastel')\n",
    "plt.title('Distribution of Review Scores by User Experience Level')\n",
    "plt.xlabel('User Experience Level')\n",
    "plt.ylabel('Review Score')\n",
    "plt.grid(True)\n",
    "plt.show()\n",
    "\n"
   ]
  },
  {
   "cell_type": "code",
   "execution_count": null,
   "metadata": {},
   "outputs": [],
   "source": [
    "# Set Seaborn theme\n",
    "sns.set_theme(style=\"whitegrid\", palette=\"pastel\")\n",
    "\n",
    "# Categorize playtime and user experience\n",
    "df['weighted_vote_score'] = df['weighted_vote_score'] * 100\n",
    "df['author.playtime_at_review'] = df['author.playtime_at_review'] / 3600\n",
    "\n",
    "# Define thresholds\n",
    "low_threshold = 10\n",
    "high_threshold = 200\n",
    "\n",
    "# Create user experience categories\n",
    "df['user_experience'] = np.where(\n",
    "    df['author.num_games_owned'] <= df['author.num_games_owned'].quantile(0.33), 'New',\n",
    "    np.where(df['author.num_games_owned'] <= df['author.num_games_owned'].quantile(0.67), 'Intermediate', 'Veteran')\n",
    ")\n",
    "\n",
    "# Define playtime bins and labels\n",
    "playtime_thresholds = [0, 1, 5, 10, 20, 50, 100, 200, df['author.playtime_forever'].max()]\n",
    "playtime_labels = ['0-1h', '1-5h', '5-10h', '10-20h', '20-50h', '50-100h', '100-200h', '200h+']\n",
    "df['users_playtime'] = pd.cut(df['author.playtime_forever'], bins=playtime_thresholds, labels=playtime_labels)\n",
    "\n",
    "# Calculate recommendation rate per user experience and playtime category\n",
    "result = df.groupby(['user_experience', 'users_playtime'], observed=False)['recommended'].mean().reset_index()\n",
    "result['recommendation_rate'] = result['recommended'] * 100\n",
    "\n",
    "# Plot with Seaborn for each user experience level\n",
    "plt.figure(figsize=(14, 7))\n",
    "sns.lineplot(data=result, x='users_playtime', y='recommendation_rate', hue='user_experience', marker='o',linewidth=3.5)\n",
    "\n",
    "# Titles and labels\n",
    "plt.title('Comparison of Recommendation Rates: New vs. Intermediate vs. Veteran Users')\n",
    "plt.xlabel('Playtime Category')\n",
    "plt.ylabel('Recommendation Rate (%)')\n",
    "plt.xticks(rotation=75)\n",
    "plt.legend(title='User Experience Level')\n",
    "plt.tight_layout()\n",
    "plt.show()"
   ]
  },
  {
   "cell_type": "markdown",
   "metadata": {},
   "source": [
    "This graph illustrates the variation in recommendation rates across different playtime categories for New Users, Intermediate, and Veteran users. The x-axis represents distinct playtime ranges in hours, and the y-axis shows the recommendation rate as a percentage.\n",
    "1.\t0-1h : Veteran users start with a higher recommendation rate compared to New and Intermediate users, suggesting that experienced users may have more initial optimism or familiarity with games.\n",
    "2.\t1-5h: All three groups exhibit a steep decline in recommendation rates as playtime increases to 1-5 hours. \n",
    "3.\tFrom 10 hours onward, recommendation rates begin to increase for all user groups, with a marked increase as playtime extends to over 200 hours. This trend implies that as players invest more time, they are likely to have a more favorable view of the game.\n",
    "\n",
    "\n",
    "\n",
    "New Users: \n",
    "\n",
    "Maintain consistently moderate recommendation rates but show less fluctuation over time.\n",
    "Intermediate Users:\n",
    "\n",
    " Experience a steadier rate across most playtime categories, suggesting a balanced perception.\n",
    "Veteran Users:\n",
    "\n",
    " Show more variation, initially high rates that dip significantly but then recover as playtime increases."
   ]
  },
  {
   "cell_type": "code",
   "execution_count": null,
   "metadata": {},
   "outputs": [],
   "source": [
    "from scipy.stats import f_oneway\n",
    "\n",
    "# Perform ANOVA to determine if there is a statistically significant difference between groups\n",
    "\n",
    "groups = [group['weighted_vote_score'].dropna() for name, group in df.groupby('user_experience_level')]\n",
    "\n",
    "# Perform ANOVA test\n",
    "anova_statistic, anova_p_value = f_oneway(*groups)\n",
    "\n",
    "print(\"ANOVA Test Results:\")\n",
    "print(f\"Test Statistic: {anova_statistic:.2f}\")\n",
    "print(f\"p-value: {anova_p_value:.2e}\")\n",
    "\n",
    "if anova_p_value < 0.05:\n",
    "    print(\"\\nThe ANOVA test indicates a statistically significant difference in the distribution of review scores between user experience levels.\")\n",
    "else:\n",
    "    print(\"\\nThe ANOVA test does not indicate a statistically significant difference in the distribution of review scores between user experience levels.\")"
   ]
  },
  {
   "cell_type": "markdown",
   "metadata": {},
   "source": [
    "##### Ask an LLM tool (ChatGPT, Claude AI, etc.) to interpret the statistical results of the analysis and provide potential explanations for the trends. Does the LLM suggest additional factors that could explain why users who spend more time on the app give higher or lower ratings? How can you validate the interpretations provided by the LLM?\n",
    "\n",
    "The statistical analysis using ANOVA confirmed significant differences in review score distributions across new, intermediate, and veteran users. This suggests that user experience levels influence rating behavior. Veteran users, who have spent considerable time on the app, might give higher ratings due to loyalty, familiarity, or an investment bias, where users who have invested significant time tend to rate more favorably due to their sustained commitment. Conversely, intermediate users might exhibit lower ratings as they navigate the app more critically during a transition phase where novelty wears off but mastery has not been achieved. New users, on the other hand, may rate based on initial expectations, leading to either very positive or neutral scores. Factors such as the quality of updates, community influence, perceived value, and user satisfaction over time could all contribute to these observed trends. Additionally, individual motivations, specific use cases, and expectations tied to personal goals or app functionality may explain why some users rate higher or lower based on their usage duration."
   ]
  },
  {
   "cell_type": "markdown",
   "metadata": {},
   "source": [
    "5. [**RQ5**] *It is interesting to explore the top reviewers to gain insight into their demographic location, the quality of their reviews, and the applications they tend to review most frequently.*\n",
    "   - Determine the ten reviewers with the highest number of reviews in the dataset.\n",
    "   - What is the percentage of each language used by these top 10 reviewers when submitting a review?\n",
    "   - Let's examine whether other users found the reviews from these top 10 reviewers helpful or if they were simply spamming. Calculate the average number of valuable votes these reviewers received for their submitted reviews. Elaborate on the results you see.\n",
    "   - Create a plot showing the distribution of the number of reviews each application received from the top 10 reviewers, arranged in descending order."
   ]
  },
  {
   "cell_type": "markdown",
   "metadata": {},
   "source": [
    "#### Determine the ten reviewers with the highest number of reviews in the dataset."
   ]
  },
  {
   "cell_type": "code",
   "execution_count": null,
   "metadata": {},
   "outputs": [],
   "source": [
    "# Group by reviewer and get the top 10 reviewers\n",
    "top_reviewers = df.groupby('author.steamid').size().nlargest(10)\n",
    "print(f\"The 10 reviewers with the most reviews are:\\n{top_reviewers}\")"
   ]
  },
  {
   "cell_type": "markdown",
   "metadata": {},
   "source": [
    "#### What is the percentage of each language used by these top 10 reviewers when submitting a review?"
   ]
  },
  {
   "cell_type": "code",
   "execution_count": null,
   "metadata": {},
   "outputs": [],
   "source": [
    "# Filter the original DataFrame to get the data for the top 10 reviewers\n",
    "top_10_reviewers = df[df['author.steamid'].isin(top_reviewers.index)]\n",
    "\n",
    "# Count the languages used by the top 10 reviewers\n",
    "language_counts = top_10_reviewers['language'].value_counts()\n",
    "total_counts = language_counts.sum()\n",
    "language_percentages = language_counts / total_counts * 100\n",
    "\n",
    "# Print the language percentages\n",
    "print(\"Language Usage Percentages among Top 10 Reviewers:\")\n",
    "for lang, percent in zip(language_counts.index, language_percentages):\n",
    "    print(f\"{lang}: {percent:.1f}%\")\n",
    "\n",
    "# Create a dictionary with names and percentages only\n",
    "language_dict = {f\"{lang} ({percent:.1f}%)\": percent\n",
    "                 for lang, percent in zip(language_counts.index, language_percentages)}\n",
    "\n",
    "# Plot the waffle chart with specified number of columns, legend, and larger figure size\n",
    "fig = plt.figure(\n",
    "    FigureClass=Waffle,\n",
    "    rows=20,\n",
    "    columns=10,  # Specify the number of columns\n",
    "    values=language_dict,  # Use dictionary with only percentages\n",
    "    colors=['mediumorchid', 'lime', 'orange'],  # Purple, Yellow, Orange\n",
    "    figsize=(12, 8),  # Set figure size to 12x8 inches\n",
    "    title={'label': 'Language Usage Among Top 10 Reviewers', 'loc': 'center', 'fontsize': 16, 'fontweight': 'bold'},\n",
    "    legend={\n",
    "        'loc': 'upper left',\n",
    "        'bbox_to_anchor': (1, 1),\n",
    "        'fontsize': 10,\n",
    "        'title': 'Languages',\n",
    "        'title_fontsize': 12\n",
    "    },\n",
    "    block_aspect_ratio=1,  # Make each block square\n",
    ")\n",
    "for patch in fig.axes[0].patches:\n",
    "    patch.set_edgecolor('black')  # Set edge color to black\n",
    "    patch.set_linewidth(0.5)\n",
    "\n",
    "plt.show()\n",
    "\n",
    "\n",
    "#Language Usage Percentages among Top 10 Reviewers:\n",
    "# english: 53.9%\n",
    "# russian: 28.1%\n",
    "# schinese: 17.9%\n"
   ]
  },
  {
   "cell_type": "markdown",
   "metadata": {},
   "source": [
    "#### Let's examine whether other users found the reviews from these top 10 reviewers helpful or if they were simply spamming. Calculate the average number of valuable votes these reviewers received for their submitted reviews. Elaborate on the results you see."
   ]
  },
  {
   "cell_type": "code",
   "execution_count": null,
   "metadata": {},
   "outputs": [],
   "source": [
    "# Calculate the mean of helpful votes for each of the top 10 reviewers\n",
    "avg_votes_helpful = top_10_reviewers.groupby('author.steamid')['votes_helpful'].mean()\n",
    "print(\"Mean of helpful votes from the top 10 reviewers:\")\n",
    "print(avg_votes_helpful)\n",
    "\n",
    "# Barplot\n",
    "plt.figure(figsize=(10,6))  # Set the figure size for the bar plot\n",
    "x_labels = range(1, 11)  # Define x-axis labels for reviewers from 1 to 10\n",
    "colors = plt.get_cmap(\"inferno\")(np.linspace(0, 1, len(avg_votes_helpful)))  # Generate a color gradient for the bars\n",
    "\n",
    "# Plot the mean of helpful votes as a bar chart\n",
    "avg_votes_helpful.plot(kind='bar', color=colors, edgecolor='black')  # Plot with colored bars and black edges\n",
    "plt.xticks(ticks=range(len(avg_votes_helpful)), labels=x_labels)  # Set x-axis ticks and labels for reviewers\n",
    "\n",
    "# Set plot title and labels\n",
    "plt.title('Mean of Helpful Votes from the Top 10 Reviewers', fontweight='bold', fontsize=20)\n",
    "plt.xlabel('Reviewer Index (1 to 10)', fontsize=14)\n",
    "plt.ylabel('Mean of Helpful Votes', fontsize=14)\n",
    "\n",
    "plt.tight_layout()  # Adjust layout to prevent label cutoff\n",
    "plt.show()  # Display the plot\n",
    "\n",
    "\n",
    "# Many of them just spam reviews"
   ]
  },
  {
   "cell_type": "markdown",
   "metadata": {},
   "source": [
    "####   Create a plot showing the distribution of the number of reviews each application received from the top 10 reviewers, arranged in descending order."
   ]
  },
  {
   "cell_type": "code",
   "execution_count": null,
   "metadata": {},
   "outputs": [],
   "source": [
    "import plotly.express as px\n",
    "\n",
    "# Group and sort the count of reviews per app\n",
    "reviews_per_app = top_10_reviewers.groupby('app_name').size().sort_values(ascending=False)\n",
    "\n",
    "# Convert `reviews_per_app` to a DataFrame to make it compatible with Plotly\n",
    "reviews_per_app_df = reviews_per_app.reset_index()\n",
    "reviews_per_app_df.columns = ['Game', 'Number of Reviews']\n",
    "\n",
    "# Create the vertical bar chart with Plotly\n",
    "fig = px.bar(\n",
    "    reviews_per_app_df,\n",
    "    x='Game',\n",
    "    y='Number of Reviews',\n",
    "    title='Distribution of the Number of Reviews for the Top 10 Reviewers',\n",
    "    labels={'Game': 'Game', 'Number of Reviews': 'Number of Reviews'},\n",
    "    color='Number of Reviews',  # Color based on the number of reviews\n",
    "    color_continuous_scale='YlGnBu'\n",
    ")\n",
    "\n",
    "# Configure layout to enable vertical scrolling\n",
    "fig.update_layout(\n",
    "    height=1000,  # Total height of the chart (increased from 800 to 1000)\n",
    "    width=3000,   # Total width of the chart (you can set the desired value)\n",
    "    xaxis={'categoryorder': 'total descending'},  # Descending order\n",
    "    showlegend=False,\n",
    ")\n",
    "\n",
    "# Enable scrolling on the x-axis if there are many games\n",
    "fig.update_xaxes(tickangle=-45, automargin=True, dtick=1, tickvals=[], ticktext=[])\n",
    "\n",
    "# Show the chart\n",
    "fig.show()\n"
   ]
  },
  {
   "cell_type": "markdown",
   "metadata": {},
   "source": [
    "6. [**RQ6**] *Let's investigate the behavior of specific groups, specifically focusing on English and Spanish reviewers*\n",
    "    - Which group is more likely to edit or update their review after submitting it? “English or Spanish!”?\n",
    "    - Provide the average number of games that reviewers from each group have on their Steam accounts and the average number of games for which they write reviews. What can you say about the number you just calculated?"
   ]
  },
  {
   "cell_type": "code",
   "execution_count": 4,
   "metadata": {},
   "outputs": [
    {
     "name": "stdout",
     "output_type": "stream",
     "text": [
      "Review in English are more likely to be edited or updated (0.12 English, 0.1 Spanish)\n"
     ]
    },
    {
     "data": {
      "text/plain": [
       "language\n",
       "english    0.118948\n",
       "spanish    0.099351\n",
       "Name: edited, dtype: float64"
      ]
     },
     "execution_count": 4,
     "metadata": {},
     "output_type": "execute_result"
    }
   ],
   "source": [
    "#English or Spanish\n",
    "# First solution for the first challenge of RQ6:\n",
    "\n",
    "df_updated_english = df[(df.language=='english') & (df.timestamp_created < df.timestamp_updated)]\n",
    "df_updated_spanish = df[(df.language=='spanish') & (df.timestamp_created < df.timestamp_updated)]\n",
    "\n",
    "prob_english_updated = len(df_updated_english) / len(df[(df.language=='english')])\n",
    "prob_num_spanish_updated = len(df_updated_spanish) / len(df[(df.language=='spanish')])\n",
    "\n",
    "prob_english_updated = round(prob_english_updated, 2)\n",
    "prob_num_spanish_updated = round(prob_num_spanish_updated, 2)\n",
    "\n",
    "if prob_english_updated > prob_num_spanish_updated:\n",
    "    print(f'Review in English are more likely to be edited or updated ({prob_english_updated} English, {prob_num_spanish_updated} Spanish)')\n",
    "elif prob_num_spanish_updated > prob_english_updated:\n",
    "    print(f'Review in Spanish are more likely to be edited or updated ({prob_num_spanish_updated} Spanish, {prob_english_updated} English)')\n",
    "else:\n",
    "    print(f'Reviews in both English and Spanish are equally likely to be edited or updated ({prob_english_updated} English, {prob_num_spanish_updated} Spanish)')\n",
    "    \n",
    "\n",
    "# Second solution for the first challenge of RQ6:\n",
    "df['edited'] = df['timestamp_updated'] > df['timestamp_created']\n",
    "edited_proportion = df.groupby('language')['edited'].mean()\n",
    "edited_proportion[(edited_proportion.index=='english') | (edited_proportion.index=='spanish')]"
   ]
  },
  {
   "cell_type": "code",
   "execution_count": 5,
   "metadata": {},
   "outputs": [
    {
     "name": "stdout",
     "output_type": "stream",
     "text": [
      "Average number of purchased games:\n",
      " language\n",
      "english    1.369502e+06\n",
      "spanish    1.219163e+02\n",
      "Name: author.num_games_owned, dtype: float64 \n",
      "\n",
      "Average number of written reviews for games:\n",
      " language\n",
      "english    456456.874498\n",
      "spanish         9.387422\n",
      "Name: author.num_reviews, dtype: float64 \n",
      "\n",
      "Median number of purchased games:\n",
      " language\n",
      "english    84.0\n",
      "spanish    56.0\n",
      "Name: author.num_games_owned, dtype: float64 \n",
      "\n",
      "Median number of written reviews for games:\n",
      " language\n",
      "english    5.0\n",
      "spanish    4.0\n",
      "Name: author.num_reviews, dtype: float64 \n",
      "\n",
      "\n",
      "There is something unusual in this dataset: the number of purchased games in English is extremely high, likely due to the presence of an outlier.\n",
      "For example, one English player reportedly purchased 1.37 million games and wrote 46 thousand reviews, which is unrealistic and suggests these could be bots or just a mistake when the information were recorded.\n",
      "To handle this, we also calculate the median, which is more robust against outliers. The large gap between the average and median suggests the presence of outliers in the dataset.\n",
      "\n"
     ]
    }
   ],
   "source": [
    "# Solution for the second challenge of RQ6\n",
    "\n",
    "\n",
    "avg_games_owned = df.groupby('language')['author.num_games_owned'].mean()\n",
    "avg_reviews_written = df.groupby('language')['author.num_reviews'].mean()\n",
    "\n",
    "med_games_owned = df.groupby('language')['author.num_games_owned'].median()\n",
    "med_reviews_written = df.groupby('language')['author.num_reviews'].median()\n",
    "\n",
    "avg_games_owned_en_es = avg_games_owned.loc[['english', 'spanish']]\n",
    "avg_reviews_written_en_es = avg_reviews_written.loc[['english', 'spanish']]\n",
    "\n",
    "med_games_owned_en_es = med_games_owned.loc[['english', 'spanish']]\n",
    "med_reviews_written_en_es = med_reviews_written.loc[['english', 'spanish']]\n",
    "\n",
    "print('Average number of purchased games:\\n', avg_games_owned_en_es, '\\n')\n",
    "print('Average number of written reviews for games:\\n', avg_reviews_written_en_es, '\\n')\n",
    "\n",
    "print('Median number of purchased games:\\n', med_games_owned_en_es, '\\n')\n",
    "print('Median number of written reviews for games:\\n', med_reviews_written_en_es, '\\n')\n",
    "\n",
    "# Explanation\n",
    "print(\"\"\"\n",
    "There is something unusual in this dataset: the number of purchased games in English is extremely high, likely due to the presence of an outlier.\n",
    "For example, one English player reportedly purchased 1.37 million games and wrote 46 thousand reviews, which is unrealistic and suggests these could be bots or just a mistake when the information were recorded.\n",
    "To handle this, we also calculate the median, which is more robust against outliers. The large gap between the average and median suggests the presence of outliers in the dataset.\n",
    "\"\"\")\n",
    "\n"
   ]
  },
  {
   "cell_type": "markdown",
   "metadata": {},
   "source": [
    "7. [**RQ7**] *Certainly, calculating probabilities and conducting statistical tests are essential skills for any data scientist. Let's calculate some intriguing figures.*\n",
    "   - What is the probability of submitting a review and receiving at least one helpful vote from other users?\n",
    "   - What is the probability of submitting a review and receiving at least one helpful vote from other users, given that you don’t recommend the app?\n",
    "   - Is the probability of “a review receiving at least one helpful vote” independent of the probability that “the reviewer has submitted at least five reviews before the current review”? Elaborate on it.\n",
    "   - We hypothesize that “reviewers who own a larger number of games are likely to leave fewer reviews on the platform.” Please validate or refute this statement through statistical analysis.\n",
    "   - Ask an LLM tool (such as ChatGPT, Claude AI, Gemini, Perplexity, etc.) to understand the purposes of histograms, bar plots, scatterplots, and pie charts and what kind of insights they offer that might be useful for statistical analysis. Are those results trustworthy, or can you do something to improve somehow the confidence in the suggestions given by the LLM?\n"
   ]
  },
  {
   "cell_type": "code",
   "execution_count": null,
   "metadata": {},
   "outputs": [],
   "source": [
    "#7.1\n",
    "#At first we find the reviews that received at least one helpful vote;\n",
    "# then we calculate the probability of receiving an helpful vote by dividing the count of\n",
    "#helpful reviews by the total number of reviews\n",
    "helpful_reviews = df[df['votes_helpful'] >= 1]\n",
    "prob_helpful_vote = len(helpful_reviews) / len(df)\n",
    "print(f\"Probability of submitting a review and receive at least one helpful vote: {prob_helpful_vote:.4f}\")"
   ]
  },
  {
   "cell_type": "code",
   "execution_count": null,
   "metadata": {},
   "outputs": [],
   "source": [
    "#7.2\n",
    "#Filter the reviews that do not recommend the app and have received at least\n",
    "#one helpful vote.\n",
    "non_recommended_helpful = df[(df['recommended'] == False) & (df['votes_helpful'] >=1)]\n",
    "#Count the reviews that don't recommend the app\n",
    "total_non_recommended = df[df['recommended'] == False].shape[0]\n",
    "#Calculate the number of non-recommended reviews with at least one helpful vote\n",
    "helpful_non_recommended_count = non_recommended_helpful.shape[0]\n",
    "#Calculate the conditional probability of receiving an helpful vote given that the app is not recommended\n",
    "probability = helpful_non_recommended_count / total_non_recommended if total_non_recommended > 0 else 0\n",
    "\n",
    "print(f\"Probability of submitting a review and receiving at least one helpful vote from other users, given that you don’t recommend the app: {probability:.4f}\")\n",
    "\n",
    "# The probability of receiving at least one helpful vote, given that the reviewer does not recommend the app, is approximately 56%.\n",
    "# This shows that even for negative or non-recommended reviews, the content is still considered helpful by other users.\n",
    "# This suggests that users may find non-recommended reviews useful in helping them understand the product."
   ]
  },
  {
   "cell_type": "markdown",
   "metadata": {},
   "source": [
    "For the next point we need to use the formula for two independent events. Two events are considered independent if the probability of their intersection equals the product of their individual probabilities:\n",
    "\n",
    "$$P(A \\cap B) = P(A) \\times P(B)$$\n",
    "\n",
    "If this equality won't be true, then we can say that events A and B are dependent."
   ]
  },
  {
   "cell_type": "code",
   "execution_count": null,
   "metadata": {},
   "outputs": [],
   "source": [
    "#7.3\n",
    "#Create a new column 'A' representing whether a review received at least one helpful vote\n",
    "df['A'] = df['votes_helpful'] >= 1\n",
    "# Create a new column 'B' representing whether the reviewer has submitted at least five reviews\n",
    "df['B'] = df['author.num_reviews'] >= 5\n",
    "\n",
    "#Calculate the probability of event P(A), P(B) using the mean of columns A and B\n",
    "P_A = df['A'].mean()\n",
    "P_B = df['B'].mean()\n",
    "\n",
    "# Calculate the joint probability P(A ∩ B) (when A and B are both true)\n",
    "P_A_and_B = df[(df['A'] == True) & (df['B'] == True)].shape[0] / df.shape[0]\n",
    "\n",
    "#Checking the independence (A and B are independent if P(A ∩ B) = P(A) * P(B))\n",
    "independent = P_A_and_B == P_A * P_B\n",
    "\n",
    "print(f\"P(A): {P_A}\")\n",
    "print(f\"P(B): {P_B}\")\n",
    "print(f\"P(A ∩ B): {P_A_and_B}\")\n",
    "print(f\"Are the events independent? {'Yes' if independent else 'No'}\")\n",
    "# The result tells us that the probability of receiving helpful vote is affected by the\n",
    "# fact that the reviewer has previously submitted at least five reviews.\n",
    "#P(A∩B)≠P(A)⋅P(B)"
   ]
  },
  {
   "cell_type": "code",
   "execution_count": null,
   "metadata": {},
   "outputs": [],
   "source": [
    "#7.4\n",
    "# To do this point, we initially planned to use the Pearson correlation coefficient to examine the relationship between the number of games owned and the number of reviews left.\n",
    "# However, the Pearson correlation requires both variables to be normally distributed.\n",
    "# Therefore, we conducted the D'Agostino-Pearson test to check the distributions of both variables.\n",
    "# The result showed that the variables are not normally distributed, so we proceeded with the Spearman correlation, which is a non-parametric test suitable for non-normal data.\n",
    "\n",
    "from scipy.stats import normaltest\n",
    "stat_games, p_games = normaltest(df['author.num_games_owned'])\n",
    "stat_reviews, p_reviews = normaltest(df['author.num_reviews'])\n",
    "\n",
    "# Print the test results\n",
    "print(f\"D'Agostino-Pearson test for 'author.num_games_owned': p-value = {p_games}\")\n",
    "print(f\"D'Agostino-Pearson test for 'author.num_reviews': p-value = {p_reviews}\")\n",
    "\n",
    "# Check for normality and choose the appropriate correlation test\n",
    "if p_games > 0.05 and p_reviews > 0.05:\n",
    "    print(\"Both variables are approximately normally distributed.\")\n",
    "    # Calculate Pearson correlation\n",
    "else:\n",
    "    print(\"At least one variable is not normally distributed.\")\n",
    "    # Calculate Spearman correlation"
   ]
  },
  {
   "cell_type": "markdown",
   "metadata": {},
   "source": [
    "**Spearman Correlation**\n",
    "\n",
    "This coefficient allows to measure how strong the relationship is between two variables. It is similar to the Pearson linear correlation coefficient, but it is used when the conditions needed for applying Pearson's coefficient are not satisfied, such as when the data is not normally distributed.\n",
    "\n",
    "The value of the Spearman correlation ranges from $-1$ to $+1$.\n",
    "\n",
    "If the value is positive, it indicates a direct relationship.\n",
    "\n",
    "If the value is negative, it indicates an inverse relationship.\n",
    "\n",
    "If the value is close to $0$, there is no correlation.\n",
    "\n",
    "If the value is close to $1$, the correlation is very strong.\n",
    "\n",
    "After calculating the coefficient, you need to determine whether the correlation is significantly different from $0$.\n",
    "\n",
    "If the p-value is less than the significance level $p < α$ , then the correlation is significant.\n",
    "\n",
    "If the p-value is greater than the significance level $p > α$, then there is no significant correlation between the variables.\n",
    "\n",
    "*Adriano Gilardone. \"La correlazione di Spearman.\" [Online]. Available from: https://www.adrianogilardone.com/blog/la-correlazione-di-spearman/. 2023-08-23.*\n"
   ]
  },
  {
   "cell_type": "code",
   "execution_count": null,
   "metadata": {},
   "outputs": [],
   "source": [
    "# Calculate Spearman correlation between 'author.num_games_owned' and 'author.num_reviews'\n",
    "from scipy.stats import spearmanr\n",
    "\n",
    "corr_spearman, p_value_spearman = spearmanr(df['author.num_games_owned'], df['author.num_reviews'])\n",
    "\n",
    "print(f\"Spearman Correlation Coefficient: {corr_spearman}\")\n",
    "print(f\"P-value: {p_value_spearman}\")\n",
    "\n",
    "# If the correlation is negative and the p-value is less than 0.05,\n",
    "# we consider the correlation statistically significant.\n",
    "if corr_spearman > 0 and p_value_spearman < 0.05:\n",
    "    print(\"The hypothesis is true.\")\n",
    "else:\n",
    "    print(\"There is no significant correlation to support the hypothesis.\")\n",
    "\n",
    "# There is a positive correlation between the number of games owned and the number of reviews left.\n",
    "# This supports the hypothesis that reviewers with more games tend to leave more reviews."
   ]
  },
  {
   "cell_type": "markdown",
   "metadata": {},
   "source": [
    "**7.5**\n",
    "\n",
    "This is the answer given by LLM tool, chat-gpt 4o, when we asked the following question: \"Can you explain the purposes of histograms, bar plots, scatterplots, and pie charts? Also show their useful insight for statistical analysis.\"\n",
    "This was the answer:\n",
    "1. **Histograms**\n",
    "- Purpose: Histograms are used to represent the distribution of a continuous numerical variable by dividing the range of data into intervals (or bins) and plotting the frequency (or count) of data points in each bin. This visualization helps identify patterns like skewness, the spread of the data, or the presence of outliers.\n",
    "- Insights: Histograms provide insights into the shape of the distribution (e.g., normal, bimodal, skewed), central tendency, variability, and the presence of gaps or clusters in the data.\n",
    "Usefulness for Statistical Analysis: By observing the shape of the data distribution, one can make inferences about the underlying statistical characteristics, which is crucial for deciding on appropriate statistical tests or models.\n",
    "2. **Bar Plots**\n",
    "- Purpose: Bar plots display categorical data with rectangular bars, where the length of each bar is proportional to the value it represents. They are used to compare different categories or groups.\n",
    "- Insights: Bar plots are useful for identifying the most or least common categories, understanding the distribution of qualitative data, and making simple comparisons between different groups.\n",
    "Usefulness for Statistical Analysis: They can highlight the frequency or proportion of different categories, which is helpful for understanding the distribution of categorical variables, identifying trends, or comparing the relative sizes of different groups.\n",
    "3. **Scatterplots**\n",
    "- Purpose: Scatterplots are used to show the relationship between two continuous variables. Each point represents an observation, with its x and y coordinates corresponding to the values of the two variables.\n",
    "- Insights: Scatterplots can reveal correlations (positive, negative, or none), trends, and the strength of the relationship between variables. They can also highlight outliers that might affect the overall analysis.\n",
    "Usefulness for Statistical Analysis: By visualizing data points, scatterplots help in assessing the linear or non-linear relationship between variables, guiding decisions about regression models or other methods for quantifying the association.\n",
    "4. **Pie Charts**\n",
    "- Purpose: Pie charts are used to display the proportion of different categories in a whole dataset. Each slice of the pie represents a category, with its size corresponding to the proportion of that category.\n",
    "- Insights: Pie charts are helpful for understanding the composition of a dataset and seeing how different parts make up the whole. However, they can become hard to interpret when there are too many categories or when the differences in proportions are small.\n",
    "Usefulness for Statistical Analysis: Pie charts provide a quick visual comparison of proportions but are less precise than bar charts for understanding numerical differences between categories.\n",
    "\n",
    "The answer provided by the LLm tool, looks in general accurate and well explained but there is something that can be improved.\n",
    "\n",
    "Regarding histograms, they are used not only for displaying the frequency of data, but also for representing probability density; histograms can estimate the probability density function (PDF), offering an approximation of the likelihood that a random variable falls within a specific range.\n",
    "Also, through normalization, histograms can be adjusted so that the total area under the curve equals 1, making it easier to compare with theoretical distributions such as the normal distribution.\n",
    "Normalization is important for advanced analysis because it aligns histograms with common probability models.\n",
    "\n",
    "In relation to bar plots, there are different types:\n",
    "Simple bar charts: display the frequency of each category.\n",
    "Grouped bar charts: they compare the frequencies of different categories within groups.\n",
    "Stacked bar charts: These show the composition of each category in terms of subcategories.\n",
    "Measures of central tendency: Besides the mode, bar charts can also be used to visualize the median and mean of a categorical variable, if possible.\n",
    "\n",
    "For scatterplots, we can say that they are useful for visualizing relationships between variables, and they can be improved by adding trend lines. These lines help to illustrate whether the relationship between the variables is linear or nonlinear. To explore relationships among more than two variables, we can use scatterplot matrices, taht can provide a comprehensive view of multiple correlations. Scatterplots are also useful for highlighting different types of correlations, not just linear ones, but also more complex relationships like exponential or logarithmic patterns.\n",
    "\n",
    "Pie charts are best used when you want to show the proportions of parts relative to the whole, especially when there are only a few categories. For a larger number of categories or to highlight subtle differences, it is better to use bar charts or stacked bar charts.\n",
    "\n"
   ]
  },
  {
   "cell_type": "markdown",
   "metadata": {},
   "source": [
    "\n",
    "# Bonus\n",
    "\n",
    "Beyond just looking at the numerical ratings, the words users write in their reviews give us valuable insights into how they feel about the application. Let's analyze these review texts using sentiment analysis.\n",
    "\n",
    "- Perform sentiment analysis on the review texts in the top 3 languages and classify them as **positive**, **negative**, or **neutral**.\n",
    "- What is the distribution of sentiment across all reviews? \n",
    "- Does the sentiment analysis align with whether the application is recommended or not? Explain any insights from this comparison.\n",
    "- Is there a correlation between the sentiment of a review and the number of helpfulness votes it receives? Provide an analysis of the results and discuss potential trends."
   ]
  },
  {
   "cell_type": "markdown",
   "metadata": {},
   "source": [
    "### Our Answer\n",
    "\n",
    "To complete the bonus section, several conditions must be considered. For sentiment analysis, we use the TextBlob package, which supports sentiment analysis for English, German, and French. However, the three most common languages in our dataset are English, Simplified Chinese (schinese), and Russian. As a first step, we perform sentiment analysis on all reviews in English.\n",
    "\n",
    "For the other two languages, there are two possible approaches: (1) use a pre-trained LLM that has been trained on these specific languages or (2) translate non-English reviews into English, then perform sentiment analysis on the translated text. We opted for the second approach.\n",
    "\n",
    "Another challenge we face is that the Google API used for translation has usage limitations, making it impractical to translate all reviews in schinese and Russian. To address this, we take a sample of the dataset in these languages and translate it sequentially.\n",
    "\n",
    "Here’s a summary of our approach:\n",
    "1. We conducted sentiment analysis on all English-language reviews.\n",
    "2. We translated reviews in other languages and performed sentiment analysis on each translated text.\n",
    "3. Finally, we conducted sentiment analysis on a sample in all three languages for comparative insights.\n"
   ]
  },
  {
   "cell_type": "code",
   "execution_count": 2,
   "metadata": {},
   "outputs": [],
   "source": [
    "from textblob import TextBlob\n",
    "df = pd.read_csv('steam_reviews.csv').drop('Unnamed: 0', axis=1)"
   ]
  },
  {
   "cell_type": "code",
   "execution_count": 6,
   "metadata": {},
   "outputs": [
    {
     "data": {
      "text/plain": [
       "language\n",
       "english     9635437\n",
       "schinese    3764967\n",
       "russian     2348900\n",
       "Name: count, dtype: int64"
      ]
     },
     "execution_count": 6,
     "metadata": {},
     "output_type": "execute_result"
    }
   ],
   "source": [
    "three_top_lan = df['language'].value_counts().head(3)\n",
    "three_top_lan"
   ]
  },
  {
   "cell_type": "markdown",
   "metadata": {},
   "source": [
    "### Do Sentiment Analysis on the whole english reviews"
   ]
  },
  {
   "cell_type": "code",
   "execution_count": 7,
   "metadata": {},
   "outputs": [],
   "source": [
    "# Bonus\n",
    "from textblob import TextBlob\n",
    "def sentiment_analysis(df):\n",
    "    return df['review'].apply(\n",
    "        lambda review: \n",
    "            (sentiment:=TextBlob(str(review)).sentiment.polarity) and\n",
    "            ('positive' if sentiment > 0 else ('negative' if sentiment < 0  else \"neutral\"))\n",
    "        )"
   ]
  },
  {
   "cell_type": "code",
   "execution_count": 8,
   "metadata": {},
   "outputs": [
    {
     "name": "stderr",
     "output_type": "stream",
     "text": [
      "/tmp/ipykernel_556521/2633074405.py:9: SettingWithCopyWarning: \n",
      "A value is trying to be set on a copy of a slice from a DataFrame.\n",
      "Try using .loc[row_indexer,col_indexer] = value instead\n",
      "\n",
      "See the caveats in the documentation: https://pandas.pydata.org/pandas-docs/stable/user_guide/indexing.html#returning-a-view-versus-a-copy\n",
      "  df_eng['sentiment'] = sentiment_analysis(df_eng)\n"
     ]
    }
   ],
   "source": [
    "# Bonus\n",
    "# Do analysis for English language\n",
    "# For English language, we use textblob package to do sentiment analysis\n",
    "\n",
    "\"\"\"First Bonus challenge for English language\"\"\"\n",
    "\n",
    "df_eng = df[df.language=='english']\n",
    "\n",
    "df_eng['sentiment'] = sentiment_analysis(df_eng)\n"
   ]
  },
  {
   "cell_type": "code",
   "execution_count": 10,
   "metadata": {},
   "outputs": [
    {
     "name": "stdout",
     "output_type": "stream",
     "text": [
      "sentiment\n",
      "positive    5884159\n",
      "negative    2056391\n",
      "neutral     1694887\n",
      "Name: count, dtype: int64\n"
     ]
    }
   ],
   "source": [
    "df_eng.loc[df_eng.sentiment == 0.0, ['sentiment']] = 'neutral'\n",
    "print(df_eng['sentiment'].value_counts())"
   ]
  },
  {
   "cell_type": "markdown",
   "metadata": {},
   "source": [
    "The bar chart reveals that positive reviews dominate, comprising 60% of the total reviews. \n",
    "\n",
    "Neutral and negative reviews each make up 20%, sharing the remaining 40% equally."
   ]
  },
  {
   "cell_type": "code",
   "execution_count": 11,
   "metadata": {},
   "outputs": [
    {
     "data": {
      "text/plain": [
       "<Axes: xlabel='sentiment'>"
      ]
     },
     "execution_count": 11,
     "metadata": {},
     "output_type": "execute_result"
    },
    {
     "data": {
      "image/png": "[encoded data removed]",
      "text/plain": [
       "<Figure size 640x480 with 1 Axes>"
      ]
     },
     "metadata": {},
     "output_type": "display_data"
    }
   ],
   "source": [
    "\"\"\"Second Bonus challenge for English language\"\"\"\n",
    "df_eng['sentiment'].value_counts(normalize=True).plot.bar()"
   ]
  },
  {
   "cell_type": "markdown",
   "metadata": {},
   "source": [
    "#"
   ]
  },
  {
   "cell_type": "markdown",
   "metadata": {},
   "source": [
    "The bar plot displaying the proportion of recommended vs. not recommended games reveals a noticeable gap—over 20%—compared to the ratio of positive sentiments in the previous graph. \n",
    "\n",
    "However, combining neutral reviews with positive ones brings this proportion much closer to the recommendation ratio, indicating that most users who left a neutral review ultimately still recommended the game. \n",
    "\n",
    "This suggests that while these reviews may lack strong positive sentiment, they still lean toward a favorable overall experience."
   ]
  },
  {
   "cell_type": "code",
   "execution_count": 12,
   "metadata": {},
   "outputs": [
    {
     "data": {
      "text/plain": [
       "<Axes: xlabel='recommended'>"
      ]
     },
     "execution_count": 12,
     "metadata": {},
     "output_type": "execute_result"
    },
    {
     "data": {
      "image/png": "[encoded data removed]",
      "text/plain": [
       "<Figure size 640x480 with 1 Axes>"
      ]
     },
     "metadata": {},
     "output_type": "display_data"
    }
   ],
   "source": [
    "\"\"\"Third Bonus challenge for English language\"\"\"\n",
    "df_eng['recommended'].value_counts(normalize=True).plot.bar()"
   ]
  },
  {
   "cell_type": "markdown",
   "metadata": {},
   "source": [
    "#### How strongly are sentiments correlated with helpful votes?\n",
    "\n",
    "To examine whether there is a relationship between sentiment and helpful votes, we first label positive and neutral reviews as 1, and negative reviews as 0. We then apply the point-biserial correlation, a method for determining how closely a binary feature is associated with a continuous feature, to assess the correlation between these metrics.\n",
    "\n",
    "As shown below, the correlation is very low, at 0.00016. A p-value under 0.05 would indicate a significant correlation between the two metrics, but in this case, the p-value is above 0.6, suggesting no significant correlation."
   ]
  },
  {
   "cell_type": "code",
   "execution_count": null,
   "metadata": {},
   "outputs": [],
   "source": [
    "df_eng['sentiment_bin'] = df_eng.sentiment.apply(lambda x: 0 if x=='negative' else 1)"
   ]
  },
  {
   "cell_type": "code",
   "execution_count": 27,
   "metadata": {},
   "outputs": [
    {
     "name": "stdout",
     "output_type": "stream",
     "text": [
      "Point-Biserial Correlation: 0.00016780653973910294\n",
      "P-Value: 0.602444641223378\n"
     ]
    }
   ],
   "source": [
    "from scipy.stats import pointbiserialr\n",
    "correlation, p_value = pointbiserialr(df_eng.sentiment_bin, df_eng.votes_helpful)\n",
    "print(f\"Point-Biserial Correlation: {correlation}\")\n",
    "print(f\"P-Value: {p_value}\")"
   ]
  },
  {
   "cell_type": "markdown",
   "metadata": {},
   "source": [
    "#### Working on 50000 records\n",
    "Due to limitations of the Google Translate API and the time-consuming nature of translating the entire dataset, we selected only 50,000 entries. Even for this subset, translation took over four hours to convert reviews from Chinese and Russian into English."
   ]
  },
  {
   "cell_type": "code",
   "execution_count": null,
   "metadata": {},
   "outputs": [],
   "source": [
    "df = pd.read_csv('steam_reviews.csv', nrows=50000).drop('Unnamed: 0', axis=1)"
   ]
  },
  {
   "cell_type": "code",
   "execution_count": 24,
   "metadata": {},
   "outputs": [],
   "source": [
    "import time\n",
    "from tqdm import tqdm\n",
    "from googletrans import Translator\n",
    "\n",
    "translator = Translator()\n",
    "\n",
    "# Filter for schinese language reviews and create a copy to avoid SettingWithCopyWarning\n",
    "df_sch_russ = df[(df.language == 'schinese') | (df.language == 'russian')].copy()"
   ]
  },
  {
   "cell_type": "code",
   "execution_count": 26,
   "metadata": {},
   "outputs": [
    {
     "name": "stderr",
     "output_type": "stream",
     "text": [
      "100%|██████████| 21448/21448 [4:44:39<00:00,  1.26it/s]  \n"
     ]
    }
   ],
   "source": [
    "# Translate reviews and handle potential rate limit issues\n",
    "tqdm.pandas()\n",
    "def translate_review(text):\n",
    "    try:\n",
    "        return translator.translate(text, dest='en').text\n",
    "    except Exception as e:\n",
    "        time.sleep(1)  # wait a moment before retrying\n",
    "        return ''\n",
    "\n",
    "df_sch_russ['review_en'] = df_sch_russ['review'].progress_apply(translate_review)\n"
   ]
  },
  {
   "cell_type": "code",
   "execution_count": 29,
   "metadata": {},
   "outputs": [],
   "source": []
  },
  {
   "cell_type": "code",
   "execution_count": 30,
   "metadata": {},
   "outputs": [],
   "source": [
    "df_sch_russ['review'] = df_sch_russ['review_en']\n",
    "df_sch_russ.drop('review_en', axis=1, inplace=True)\n"
   ]
  },
  {
   "cell_type": "code",
   "execution_count": 31,
   "metadata": {},
   "outputs": [],
   "source": [
    "df_sch_russ.dropna(subset = ['review'], inplace=True)\n",
    "if 'Unnamed: 0' in df_sch_russ.columns:\n",
    "    df_sch_russ.drop('Unnamed: 0', axis=1, inplace=True)"
   ]
  },
  {
   "cell_type": "markdown",
   "metadata": {},
   "source": [
    "#### Sentiment Analysis on chinese reviews"
   ]
  },
  {
   "cell_type": "code",
   "execution_count": null,
   "metadata": {},
   "outputs": [],
   "source": [
    "df_sch = df_sch_russ[df_sch_russ.language == 'schinese']\n",
    "df_sch['sentiment'] = sentiment_analysis(df_sch)"
   ]
  },
  {
   "cell_type": "code",
   "execution_count": 33,
   "metadata": {},
   "outputs": [
    {
     "name": "stdout",
     "output_type": "stream",
     "text": [
      "sentiment\n",
      "positive    5760\n",
      "neutral     3297\n",
      "negative    1744\n",
      "Name: count, dtype: int64\n"
     ]
    }
   ],
   "source": [
    "df_sch.loc[df_sch.sentiment == 0.0, ['sentiment']] = 'neutral'\n",
    "print(df_sch['sentiment'].value_counts())"
   ]
  },
  {
   "cell_type": "code",
   "execution_count": 34,
   "metadata": {},
   "outputs": [
    {
     "data": {
      "text/plain": [
       "<Axes: xlabel='sentiment'>"
      ]
     },
     "execution_count": 34,
     "metadata": {},
     "output_type": "execute_result"
    },
    {
     "data": {
      "image/png": "[encoded data removed]",
      "text/plain": [
       "<Figure size 640x480 with 1 Axes>"
      ]
     },
     "metadata": {},
     "output_type": "display_data"
    }
   ],
   "source": [
    "df_sch['sentiment'].value_counts(normalize=True).plot.bar()"
   ]
  },
  {
   "cell_type": "code",
   "execution_count": 35,
   "metadata": {},
   "outputs": [
    {
     "data": {
      "text/plain": [
       "<Axes: xlabel='recommended'>"
      ]
     },
     "execution_count": 35,
     "metadata": {},
     "output_type": "execute_result"
    },
    {
     "data": {
      "image/png": "[encoded data removed]",
      "text/plain": [
       "<Figure size 640x480 with 1 Axes>"
      ]
     },
     "metadata": {},
     "output_type": "display_data"
    }
   ],
   "source": [
    "df_sch['recommended'].value_counts(normalize=True).plot.bar()"
   ]
  },
  {
   "cell_type": "code",
   "execution_count": null,
   "metadata": {},
   "outputs": [],
   "source": [
    "from scipy.stats import pointbiserialr\n",
    "\n",
    "df_sch['sentiment_bin'] = df_sch.sentiment.apply(lambda x: 0 if x=='negative' else 1)"
   ]
  },
  {
   "cell_type": "code",
   "execution_count": 39,
   "metadata": {},
   "outputs": [
    {
     "name": "stdout",
     "output_type": "stream",
     "text": [
      "Point-Biserial Correlation: -0.012771917057275607\n",
      "P-Value: 0.1844231839473014\n"
     ]
    }
   ],
   "source": [
    "correlation, p_value = pointbiserialr(df_sch.sentiment_bin, df_sch.votes_helpful)\n",
    "print(f\"Point-Biserial Correlation: {correlation}\")\n",
    "print(f\"P-Value: {p_value}\")"
   ]
  },
  {
   "cell_type": "markdown",
   "metadata": {},
   "source": [
    "#### Insights and Conclusions from Sentiment Analysis of Chinese Reviews\n",
    "The graphs reveal that over 50% of reviews are positive, around 30% are neutral, and more than 90% of players recommend the games they've played, suggesting that many neutral reviews still lean toward recommendations. For English reviews, sentiment closely aligns with recommendations, but in Chinese reviews, a notable 10% gap persists. This difference likely stems from nuances lost in translation, as Chinese expressions may not fully convey sentiment when translated to English. This suggests that cultural and linguistic subtleties can impact sentiment analysis outcomes across languages. Another possibility is that players enjoy the game overall but are dissatisfied with a recent update, prompting them to leave a negative comment while still recommending the game as a whole."
   ]
  },
  {
   "cell_type": "markdown",
   "metadata": {},
   "source": [
    "#### Sentiment Analysis on russian reviews"
   ]
  },
  {
   "cell_type": "code",
   "execution_count": null,
   "metadata": {},
   "outputs": [],
   "source": [
    "df_rus = df_sch_russ[df_sch_russ.language == 'russian']\n",
    "df_rus['sentiment'] = sentiment_analysis(df_rus)"
   ]
  },
  {
   "cell_type": "code",
   "execution_count": 41,
   "metadata": {},
   "outputs": [
    {
     "name": "stdout",
     "output_type": "stream",
     "text": [
      "sentiment\n",
      "positive    5187\n",
      "neutral     3540\n",
      "negative    1705\n",
      "Name: count, dtype: int64\n"
     ]
    }
   ],
   "source": [
    "df_rus.loc[df_rus.sentiment == 0.0, ['sentiment']] = 'neutral'\n",
    "print(df_rus['sentiment'].value_counts())"
   ]
  },
  {
   "cell_type": "code",
   "execution_count": 42,
   "metadata": {},
   "outputs": [
    {
     "data": {
      "text/plain": [
       "<Axes: xlabel='sentiment'>"
      ]
     },
     "execution_count": 42,
     "metadata": {},
     "output_type": "execute_result"
    },
    {
     "data": {
      "image/png": "[encoded data removed]",
      "text/plain": [
       "<Figure size 640x480 with 1 Axes>"
      ]
     },
     "metadata": {},
     "output_type": "display_data"
    }
   ],
   "source": [
    "df_rus['sentiment'].value_counts(normalize=True).plot.bar()"
   ]
  },
  {
   "cell_type": "code",
   "execution_count": 43,
   "metadata": {},
   "outputs": [
    {
     "data": {
      "text/plain": [
       "<Axes: xlabel='recommended'>"
      ]
     },
     "execution_count": 43,
     "metadata": {},
     "output_type": "execute_result"
    },
    {
     "data": {
      "image/png": "[encoded data removed]",
      "text/plain": [
       "<Figure size 640x480 with 1 Axes>"
      ]
     },
     "metadata": {},
     "output_type": "display_data"
    }
   ],
   "source": [
    "df_rus['recommended'].value_counts(normalize=True).plot.bar()"
   ]
  },
  {
   "cell_type": "code",
   "execution_count": null,
   "metadata": {},
   "outputs": [],
   "source": [
    "from scipy.stats import pointbiserialr\n",
    "\n",
    "df_rus['sentiment_bin'] = df_rus.sentiment.apply(lambda x: 0 if x=='negative' else 1)"
   ]
  },
  {
   "cell_type": "code",
   "execution_count": 45,
   "metadata": {},
   "outputs": [
    {
     "name": "stdout",
     "output_type": "stream",
     "text": [
      "Point-Biserial Correlation: -0.02901013462500322\n",
      "P-Value: 0.003043781657749243\n"
     ]
    }
   ],
   "source": [
    "correlation, p_value = pointbiserialr(df_rus.sentiment_bin, df_rus.votes_helpful)\n",
    "print(f\"Point-Biserial Correlation: {correlation}\")\n",
    "print(f\"P-Value: {p_value}\")"
   ]
  },
  {
   "cell_type": "markdown",
   "metadata": {},
   "source": [
    "#### Insights and Conclusions from Sentiment Analysis of Russian Reviews\n",
    "The results for Russian reviews closely mirrored our findings from the analysis of Chinese reviews.\""
   ]
  },
  {
   "cell_type": "markdown",
   "metadata": {},
   "source": [
    "# Algorithmic Question (AQ)\n",
    "You are given two positive integers, $n$ (where $1\\le n \\le 10^9$) and k (where $q \\le k \\le 100$). Your task is to express $n$ as the sum of $k$ positive integers, all having the same parity (i.e., all have the same remainder when divided by 2, meaning they are either all even or all odd).\n",
    "In other words, find $a_1, a_2, ..., a_k$ each $a_i \\gt 0, n = a_1 + a_2 + ... + a_k$, and all $a_i$ simultaneously are either even or odd.\n",
    "If it's impossible to represent $n$ in this way, report that no such representation exists.\n",
    "\n",
    "**Input**\n",
    "\n",
    "In the first input line, you will receive a number t (where $1 \\le t \\le 100$), representing the number of test cases. The following $t$ lines will contain two values, $n$ and $k$, corresponding to each test case.\n",
    "\n",
    "**Output**\n",
    "\n",
    "For each test case, if it is possible to represent $n$ as the sum of $k$ positive integers, all of the same parity (either all even or all odd), print \"YES\" and provide the corresponding values of $a_i$ in the next line. If there are multiple valid solutions, you can print any of them. If such a representation is not possible for a given test case, print \"NO\".\n",
    "\n",
    "**Examples**\n",
    "---\n",
    "\n",
    "**Input**\n",
    "```\n",
    "8\n",
    "10 3\n",
    "100 4\n",
    "8 7\n",
    "97 2\n",
    "8 8\n",
    "3 10\n",
    "5 3\n",
    "```\n",
    "**Output**\n",
    "```\n",
    "YES\n",
    "4 2 4\n",
    "YES\n",
    "55 5 5 35\n",
    "NO\n",
    "NO\n",
    "YES\n",
    "1 1 1 1 1 1 1 1\n",
    "NO\n",
    "YES\n",
    "3 1 1\n",
    "```\n",
    "1. Implement a Python program to solve the problem above.\n",
    "2. Please provide an analysis of your code's time complexity using Big O notation.\n",
    "3. Ask an LLM tool (such as ChatGPT, Claude AI, Gemini, Perplexity, etc.) to evaluate the time complexity of your code using Big O notation. Is the assessment accurate? If it differs from your previous analysis, which would be correct? Please explain your reasoning.\n",
    "  "
   ]
  },
  {
   "cell_type": "code",
   "execution_count": null,
   "metadata": {},
   "outputs": [],
   "source": [
    "t = int(input())\n",
    "\n",
    "for _ in range(t):\n",
    "    n, k = map(int, input().split())\n",
    "    if n >= k and n % 2 == k % 2:\n",
    "        print(\"YES\")\n",
    "        print(f\"{n - (k-1)} {'1 ' * (k-1)}\".strip())\n",
    "    elif n >= 2 * k and n % 2 == 0:\n",
    "        print(\"YES\")\n",
    "        print(f\"{n - 2 * (k-1)} {'2 ' * (k-1)}\".strip())\n",
    "    else:\n",
    "        print(\"NO\")"
   ]
  },
  {
   "cell_type": "markdown",
   "metadata": {},
   "source": [
    "For the first row \n",
    "```python \n",
    "t = int(input())\n",
    "``` \n",
    "we have an operation in the order of $O(1)$.\n",
    "\n",
    "Then, we entered in a for loop \n",
    "```python \n",
    "for _ in range(t):\n",
    "``` \n",
    "with a time complexity in the order of $O(t)$. \n",
    "\n",
    "Next we map the input , \n",
    "```python \n",
    "n, k = map(int, input().split())\n",
    "``` \n",
    "with an operation in the order of $O(1)$.\n",
    "\n",
    "In the if statement \n",
    "```python \n",
    "if n >= k and n % 2 == k % 2:\n",
    "``` \n",
    "we perform 2 operation , with a time comlexity of $O(2)$ .\n",
    "\n",
    "We print the result  \n",
    "```python \n",
    "print(\"YES\")  \n",
    "```\n",
    "with a time complexity of $O(1)$ and we print \n",
    "```python \n",
    "print(f\"{n - (k-1)} {'1 ' * (k-1)}\".strip())\n",
    "```\n",
    "with a time complexity in the order of $O(k)$.\n",
    "\n",
    "\n",
    "The elif statement \n",
    "```python \n",
    "elif n >= 2 * k and n % 2 == 0:\n",
    "```\n",
    "is in the order of $O(2)$   and the print \n",
    "```python \n",
    "print(\"YES\")\n",
    "print(f\"{n - 2 * (k-1)} {'2 ' * (k-1)}\".strip())\n",
    "```\n",
    "are again $O(1)$ and $O(k)$.\n",
    "\n",
    "The last else \n",
    "```python \n",
    "else:\n",
    "  print(\"NO\")\n",
    "``` \n",
    "is $O(1)$.\n",
    "\n",
    "\n",
    "So the time complexity is in the order of $O(t \\cdot k  )$ leaving out the costant.\n",
    "\n"
   ]
  },
  {
   "cell_type": "markdown",
   "metadata": {},
   "source": [
    "#### Chat GPT Output\n",
    "This is the answer given by chat gpt when we asked to give the time complexity for this algorithm using the Big O notation:\n",
    "\n",
    "Let's go through the code line by line and determine the time complexity.\n",
    "\n",
    "1. `t = int(input())`  \n",
    "   This line takes one input, so its time complexity is $( O(1) )$.\n",
    "\n",
    "2. `for _ in range(t):`  \n",
    "   This loop runs $( t )$ times, where $( t )$ is the number of test cases.\n",
    "\n",
    "3. Inside the loop:\n",
    "   - `n, k = map(int, input().split())`  \n",
    "     Each time through the loop, the code reads a line and splits it into two integers. This operation is $( O(1) )$ in terms of time complexity.\n",
    "\n",
    "   - The next part consists of three conditional statements:\n",
    "     - `if n >= k and n % 2 == k % 2:`  \n",
    "       This condition checks if $( n \\geq k )$ and whether $( n )$ and $( k )$ have the same parity. Both checks are $( O(1) )$.\n",
    "       - If the condition is true, the code prints `\"YES\"` and a formatted string of $( k )$ numbers, with one large number and $( k-1 )$ ones. Constructing and printing this string takes $( O(k) )$.\n",
    "     \n",
    "     - `elif n >= 2 * k and n % 2 == 0:`  \n",
    "       If the first condition is false, this one checks if $( n \\geq 2k )$ and if $( n )$ is even. Both are $( O(1) )$.\n",
    "       - If true, it prints `\"YES\"` and a formatted string with one large number and $( k-1 )$ twos. Again, constructing and printing the string takes $( O(k) )$.\n",
    "\n",
    "     - `else:`  \n",
    "       If neither of the above conditions are met, it simply prints `\"NO\"`, which is $( O(1) )$.\n",
    "\n",
    "**Overall Complexity**\n",
    "The loop runs $( t )$ times, and each iteration has an $( O(k) )$ operation due to printing, with other parts being $( O(1) )$. Thus, the complexity of this algorithm is:\n",
    "$[ O(t \\times k) ]$"
   ]
  },
  {
   "cell_type": "markdown",
   "metadata": {},
   "source": [
    "Our explanation and the answer provided by ChatGPT are very similar and both lead to the same time complexity which is $O(t \\times k)$.\n",
    "However, there is a difference in the analysis:\n",
    "\n",
    "- in the if and elif statement we put time complexity equal to $2$ because we have two different operations. For the LLm tool, this is not necessary because these operations are still $O(1)$ in terms of complexity. This because in Big O notation, even if we perform two operations, if these are between two constant the complexity remains $O(1)$.\n",
    "\n"
   ]
  }
 ],
 "metadata": {
  "kernelspec": {
   "display_name": "toxifree2",
   "language": "python",
   "name": "python3"
  },
  "language_info": {
   "codemirror_mode": {
    "name": "ipython",
    "version": 3
   },
   "file_extension": ".py",
   "mimetype": "text/x-python",
   "name": "python",
   "nbconvert_exporter": "python",
   "pygments_lexer": "ipython3",
   "version": "3.8.18"
  }
 },
 "nbformat": 4,
 "nbformat_minor": 2
}
